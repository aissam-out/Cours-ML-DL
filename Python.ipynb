{
  "nbformat": 4,
  "nbformat_minor": 0,
  "metadata": {
    "colab": {
      "provenance": [],
      "collapsed_sections": [
        "NwS_hu4xL9eo",
        "p-6hClFjL9fk",
        "AXA4jrEOL9hM",
        "ObA9PRtQL9hT"
      ]
    },
    "kernelspec": {
      "display_name": "Python 3",
      "language": "python",
      "name": "python3"
    },
    "language_info": {
      "codemirror_mode": {
        "name": "ipython",
        "version": 3
      },
      "file_extension": ".py",
      "mimetype": "text/x-python",
      "name": "python",
      "nbconvert_exporter": "python",
      "pygments_lexer": "ipython3",
      "version": "3.7.6"
    }
  },
  "cells": [
    {
      "cell_type": "markdown",
      "metadata": {
        "id": "dzNng6vCL9eP"
      },
      "source": [
        "#Python"
      ]
    },
    {
      "cell_type": "markdown",
      "metadata": {
        "id": "0vJLt3JRL9eR"
      },
      "source": [
        "<img src=\"https://encrypted-tbn2.gstatic.com/images?q=tbn:ANd9GcSS-qxfUs6iQcBD7xoubC00i_ACfFogEIRJ45HDgondUyJJwriv\" alt=\"Guido van Rossum\" width=\"200\" height=\"150\" align=\"right\">\n",
        "Python est un langage de programmation puissant et facile à apprendre. Il possède des structures de données efficaces de haut niveau et une approche simple mais efficace de la programmation orientée objet. La syntaxe élégante et le typage dynamique de Python, ainsi que sa nature interprétée, en font un langage idéal pour la création de scripts et le développement rapide d'applications dans de nombreux domaines sur la plupart des plateformes.\n",
        "\n",
        "[Documentation Python](https://docs.python.org/3/tutorial/index.html)\n"
      ]
    },
    {
      "cell_type": "markdown",
      "metadata": {
        "id": "9t1gKp9PL9eV"
      },
      "source": [
        "**- Python a été créé à la fin des années 1980, et publié pour la première fois en 1991, par Guido van Rossum**\n",
        "\n",
        "**- Python est sous une licence libre** :\n",
        "Python Software Foundation License (PSF)\n",
        "\n",
        "**- Python est un langage de programmation interprété** :\n",
        "Un interprète se distingue d’un compilateur par le fait que, pour exécuter un programme, les opérations d’analyse et de traductions sont réalisées à chaque exécution du programme (par un interprète) plutôt qu’une fois pour toutes (par un compilateur).\n",
        "\n",
        "**- Python est un langage multi plate-formes** :\n",
        "Windows, Linux, MacOS, Android, iOS, ...\n",
        "\n",
        "**- Python est relativement lent** :\n",
        "Vu que c'est un langage interprété, il est souvent beaucoup plus lent que les langages compilés\n",
        "\n",
        "**- Python bénéficie d'une communauté très active et supporte de nombreuses bibliothèques externes**\n",
        "\n",
        "**- Python est un langage de haut niveau** :\n",
        "Ceci qui ne convient pas lors de l'écriture de programmes pour un hardware spécifique; pour certaines tâches, l'allocation implicite de mémoire de Python pourrait présenter un inconvénient\n",
        "\n",
        "**- Python est bien adapté au ML** :\n",
        "Il existe de nombreuses bibliothèques qui prennent en charge différents algorithmes ML et simplifient la construction des programmes à partir de zéro."
      ]
    },
    {
      "cell_type": "code",
      "metadata": {
        "colab": {
          "base_uri": "https://localhost:8080/"
        },
        "id": "1L4Am0QATgOc",
        "outputId": "1800dc67-f553-4ae8-bf33-6b1b61ce40d2"
      },
      "source": [
        "!python --version"
      ],
      "execution_count": null,
      "outputs": [
        {
          "output_type": "stream",
          "name": "stdout",
          "text": [
            "Python 3.10.12\n"
          ]
        }
      ]
    },
    {
      "cell_type": "markdown",
      "metadata": {
        "id": "JAFKYgrpL9eY"
      },
      "source": [
        "##Les bases de Python"
      ]
    },
    {
      "cell_type": "markdown",
      "metadata": {
        "id": "NwS_hu4xL9eo"
      },
      "source": [
        "###Types de données - *Data types*"
      ]
    },
    {
      "cell_type": "markdown",
      "metadata": {
        "id": "DL5sMSZ9L9eq"
      },
      "source": [
        "####Nombres - Numbers\n",
        "\n",
        "Les nombres entiers et flottants fonctionnent comme on peut s'y attendre dans d'autres langages :"
      ]
    },
    {
      "cell_type": "code",
      "metadata": {
        "colab": {
          "base_uri": "https://localhost:8080/"
        },
        "id": "KheDr_zDL9es",
        "outputId": "948dc0b7-2dd7-4d3a-e072-b6ee8e825bcc"
      },
      "source": [
        "x = 3\n",
        "print(x, type(x))"
      ],
      "execution_count": 2,
      "outputs": [
        {
          "output_type": "stream",
          "name": "stdout",
          "text": [
            "3 <class 'int'>\n"
          ]
        }
      ]
    },
    {
      "cell_type": "code",
      "source": [
        "x"
      ],
      "metadata": {
        "colab": {
          "base_uri": "https://localhost:8080/"
        },
        "id": "F9n_j7mfLETv",
        "outputId": "f505eb0b-81d7-49af-f22c-cb9c3e14ef67"
      },
      "execution_count": 3,
      "outputs": [
        {
          "output_type": "execute_result",
          "data": {
            "text/plain": [
              "3"
            ]
          },
          "metadata": {},
          "execution_count": 3
        }
      ]
    },
    {
      "cell_type": "code",
      "metadata": {
        "colab": {
          "base_uri": "https://localhost:8080/"
        },
        "id": "sk_8DFcuL9ey",
        "outputId": "8107e24c-3b12-47cd-f70e-2da479b72778"
      },
      "source": [
        "print(x + 1)    # Addition\n",
        "print(x - 1)    # Soustraction\n",
        "print(x * 2)    # Multiplication\n",
        "print(x ** 2)   # Exponentiation"
      ],
      "execution_count": 4,
      "outputs": [
        {
          "output_type": "stream",
          "name": "stdout",
          "text": [
            "4\n",
            "2\n",
            "6\n",
            "9\n"
          ]
        }
      ]
    },
    {
      "cell_type": "code",
      "metadata": {
        "colab": {
          "base_uri": "https://localhost:8080/"
        },
        "id": "U4Jl8K0tL9e4",
        "outputId": "c18f22e8-8aae-4eb2-c812-954d47ccf8ba"
      },
      "source": [
        "x += 1\n",
        "print(x)\n",
        "x *= 2\n",
        "print(x)"
      ],
      "execution_count": 5,
      "outputs": [
        {
          "output_type": "stream",
          "name": "stdout",
          "text": [
            "4\n",
            "8\n"
          ]
        }
      ]
    },
    {
      "cell_type": "code",
      "metadata": {
        "colab": {
          "base_uri": "https://localhost:8080/"
        },
        "id": "w-nZ0Sg_L9e9",
        "outputId": "aedbd632-1d29-4267-ee76-0d6d00e75b66"
      },
      "source": [
        "y = 2.5\n",
        "type(y)"
      ],
      "execution_count": 7,
      "outputs": [
        {
          "output_type": "execute_result",
          "data": {
            "text/plain": [
              "float"
            ]
          },
          "metadata": {},
          "execution_count": 7
        }
      ]
    },
    {
      "cell_type": "markdown",
      "metadata": {
        "id": "r2A9ApyaL9fB"
      },
      "source": [
        "Notez que contrairement à de nombreux langages, Python n'a pas d'opérateurs d'incrémentation (x++) ou de décrémentation (x--) unitaires.\n",
        "\n",
        "Python a également des types intégrés pour les longs entiers et les nombres complexes (long integers and complex numbers) ;"
      ]
    },
    {
      "cell_type": "markdown",
      "metadata": {
        "id": "EqRS7qhBL9fC"
      },
      "source": [
        "####Booléens - Booleans\n",
        "\n",
        "Python implémente tous les opérateurs habituels pour la logique booléenne, mais utilise des mots anglais plutôt que des symboles (`&&`, `||`, etc.) :"
      ]
    },
    {
      "cell_type": "code",
      "metadata": {
        "colab": {
          "base_uri": "https://localhost:8080/"
        },
        "id": "RvoImwgGL9fE",
        "outputId": "5320ba96-0c79-496e-df68-ed8ab92c0043"
      },
      "source": [
        "t, f = True, False\n",
        "print(type(t))"
      ],
      "execution_count": 8,
      "outputs": [
        {
          "output_type": "stream",
          "name": "stdout",
          "text": [
            "<class 'bool'>\n"
          ]
        }
      ]
    },
    {
      "cell_type": "markdown",
      "metadata": {
        "id": "YQgmQfOgL9fI"
      },
      "source": [
        "Examinons maintenant les opérations :"
      ]
    },
    {
      "cell_type": "code",
      "metadata": {
        "colab": {
          "base_uri": "https://localhost:8080/"
        },
        "id": "6zYm7WzCL9fK",
        "outputId": "acc05a8d-7377-4fe0-bcae-64c5f459d082"
      },
      "source": [
        "print(t and f) # et logique;\n",
        "print(t or f)  # ou logique;\n",
        "print(not t)   # non logique;\n",
        "print(t != f)  # XOR logique;"
      ],
      "execution_count": 9,
      "outputs": [
        {
          "output_type": "stream",
          "name": "stdout",
          "text": [
            "False\n",
            "True\n",
            "False\n",
            "True\n"
          ]
        }
      ]
    },
    {
      "cell_type": "markdown",
      "metadata": {
        "id": "UQnQWFEyL9fP"
      },
      "source": [
        "####Chaînes de caractères - Strings"
      ]
    },
    {
      "cell_type": "code",
      "metadata": {
        "colab": {
          "base_uri": "https://localhost:8080/"
        },
        "id": "AijEDtPFL9fP",
        "outputId": "7ae87b26-4238-4fe7-ffa4-a2f92827a7a2"
      },
      "source": [
        "hello = 'hello'   # on peut soit utiliser ''\n",
        "world = \"world\"   # ou \"\"\n",
        "print(hello, len(hello))"
      ],
      "execution_count": 11,
      "outputs": [
        {
          "output_type": "stream",
          "name": "stdout",
          "text": [
            "hello 5\n"
          ]
        }
      ]
    },
    {
      "cell_type": "code",
      "metadata": {
        "colab": {
          "base_uri": "https://localhost:8080/"
        },
        "id": "saDeaA7hL9fT",
        "outputId": "6c4c2504-265a-43ae-fa6d-82006989e973"
      },
      "source": [
        "hw = hello + ' ' + world  # concatenation\n",
        "print(hw)"
      ],
      "execution_count": 12,
      "outputs": [
        {
          "output_type": "stream",
          "name": "stdout",
          "text": [
            "hello world\n"
          ]
        }
      ]
    },
    {
      "cell_type": "code",
      "metadata": {
        "colab": {
          "base_uri": "https://localhost:8080/"
        },
        "id": "lZ-UjJMS2t3L",
        "outputId": "12b274aa-2252-430f-edfd-7f122092579a"
      },
      "source": [
        "name = \"Jilali\"\n",
        "age = 74\n",
        "print(\"Hello, %s! you are %s.\" % (name, age))"
      ],
      "execution_count": null,
      "outputs": [
        {
          "output_type": "stream",
          "name": "stdout",
          "text": [
            "Hello, Jilali! you are 74.\n"
          ]
        }
      ]
    },
    {
      "cell_type": "code",
      "metadata": {
        "colab": {
          "base_uri": "https://localhost:8080/"
        },
        "id": "Nji1_UjYL9fY",
        "outputId": "5a41bbfc-ef5a-43d7-a3cf-b1c6e011f837"
      },
      "source": [
        "hw12 = '{} {} {}'.format(hello, world, 12)  # string formatting\n",
        "print(hw12)"
      ],
      "execution_count": null,
      "outputs": [
        {
          "output_type": "stream",
          "name": "stdout",
          "text": [
            "hello world 12\n"
          ]
        }
      ]
    },
    {
      "cell_type": "markdown",
      "metadata": {
        "id": "4W8o5jym3j0R"
      },
      "source": [
        "Le code utilisant `str.format()` est beaucoup plus facile à lire que le code utilisant le formatage `%`, mais `str.format()` peut toujours être assez verbeux lorsque vous avez affaire à plusieurs paramètres et à des chaînes de caractères plus longues.\n",
        "\n",
        "Heureusement, à partir de Python 3.6 nous pouvons utiliser une version beaucoup plus lisible qu'on a nommé `fstring`"
      ]
    },
    {
      "cell_type": "code",
      "metadata": {
        "colab": {
          "base_uri": "https://localhost:8080/"
        },
        "id": "P6cfIV_-eCUf",
        "outputId": "fb3ff2f1-89b9-4d80-b33d-e5172ffb7b35"
      },
      "source": [
        "name = \"Jilali\"\n",
        "age = 74\n",
        "print(f\"Hello, {name}! you are {age}.\")"
      ],
      "execution_count": null,
      "outputs": [
        {
          "output_type": "stream",
          "name": "stdout",
          "text": [
            "Hello, Jilali! you are 74.\n"
          ]
        }
      ]
    },
    {
      "cell_type": "markdown",
      "metadata": {
        "id": "bUpl35bIL9fc"
      },
      "source": [
        "Les objets *string* ont un tas de méthodes utiles ; par exemple :"
      ]
    },
    {
      "cell_type": "code",
      "metadata": {
        "colab": {
          "base_uri": "https://localhost:8080/"
        },
        "id": "VOxGatlsL9fd",
        "outputId": "1a29c4b5-e577-4535-bfc1-e7dc8df98b42"
      },
      "source": [
        "s = \"hello\"\n",
        "print(s.capitalize())  # mettre la première lettre en majuscule\n",
        "print(s.upper())       # mettre le tout en majuscule\n",
        "print(s.rjust(7))      # padding avec des espaces\n",
        "print(s.replace('h', 'C'))  # remplacer\n",
        "print('   hello world '.strip())  # enlever les espaces au début et à la fin"
      ],
      "execution_count": 13,
      "outputs": [
        {
          "output_type": "stream",
          "name": "stdout",
          "text": [
            "Hello\n",
            "HELLO\n",
            "  hello\n",
            "Cello\n",
            "hello world\n"
          ]
        }
      ]
    },
    {
      "cell_type": "markdown",
      "metadata": {
        "id": "06cayXLtL9fi"
      },
      "source": [
        "Vous pouvez trouver la liste de toutes les méthodes de chaînes de caractères dans la [documentation](https://docs.python.org/3.7/library/stdtypes.html#string-methods)."
      ]
    },
    {
      "cell_type": "markdown",
      "metadata": {
        "id": "p-6hClFjL9fk"
      },
      "source": [
        "###Conteneurs - *Containers*\n",
        "\n",
        "Python comprend plusieurs types de conteneurs intégrés : listes *(lists)*, dictionnaires *(dictionaries)*, ensembles *(sets)* et tuples."
      ]
    },
    {
      "cell_type": "markdown",
      "metadata": {
        "id": "UsIWOe0LL9fn"
      },
      "source": [
        "####Listes - *lists*\n",
        "\n",
        "Une liste est l'équivalent en Python d'un tableau, mais elle est redimensionnable et peut contenir des éléments de différents types :"
      ]
    },
    {
      "cell_type": "code",
      "metadata": {
        "colab": {
          "base_uri": "https://localhost:8080/"
        },
        "id": "hk3A8pPcL9fp",
        "outputId": "28edff81-4db8-4382-a0c0-06c92b7370fc"
      },
      "source": [
        "xs = [3, 1, 2, 5, 7, 9, 4, 6]   # Créer un liste\n",
        "print(xs)\n",
        "print(xs[2])\n",
        "print(xs[-1])    # Les indices négatifs sont comptés à partir de la fin de la liste\n",
        "print(xs[-2])"
      ],
      "execution_count": 14,
      "outputs": [
        {
          "output_type": "stream",
          "name": "stdout",
          "text": [
            "[3, 1, 2, 5, 7, 9, 4, 6]\n",
            "2\n",
            "6\n",
            "4\n"
          ]
        }
      ]
    },
    {
      "cell_type": "code",
      "metadata": {
        "colab": {
          "base_uri": "https://localhost:8080/"
        },
        "id": "YCjCy_0_L9ft",
        "outputId": "7eb5419b-a37f-42f0-ee5b-96989c4ae1d1"
      },
      "source": [
        "xs[2] = 'Jilali'   # une liste peut contenir des éléments de différents types\n",
        "xs[-1] = True\n",
        "print(xs)"
      ],
      "execution_count": 16,
      "outputs": [
        {
          "output_type": "stream",
          "name": "stdout",
          "text": [
            "[3, 1, 'Jilali', 5, 7, 9, 4, True]\n"
          ]
        }
      ]
    },
    {
      "cell_type": "code",
      "metadata": {
        "colab": {
          "base_uri": "https://localhost:8080/"
        },
        "id": "vJ0x5cF-L9fx",
        "outputId": "878c7b4b-1376-48aa-b832-252c5f97cdce"
      },
      "source": [
        "xs.append('Jilali_prime') # Ajouter un nouvel élément à la fin de la liste\n",
        "print(xs)"
      ],
      "execution_count": 17,
      "outputs": [
        {
          "output_type": "stream",
          "name": "stdout",
          "text": [
            "[3, 1, 'Jilali', 5, 7, 9, 4, True, 'Jilali_prime']\n"
          ]
        }
      ]
    },
    {
      "cell_type": "code",
      "metadata": {
        "colab": {
          "base_uri": "https://localhost:8080/"
        },
        "id": "cxVCNRTNL9f1",
        "outputId": "5a49cc9e-6db7-4a87-a7ff-d8684c77570e"
      },
      "source": [
        "x = xs.pop()     # Supprimer et rendre le dernier élément de la liste\n",
        "print(x)\n",
        "print(xs)"
      ],
      "execution_count": 18,
      "outputs": [
        {
          "output_type": "stream",
          "name": "stdout",
          "text": [
            "Jilali_prime\n",
            "[3, 1, 'Jilali', 5, 7, 9, 4, True]\n"
          ]
        }
      ]
    },
    {
      "cell_type": "markdown",
      "metadata": {
        "id": "ilyoyO34L9f4"
      },
      "source": [
        "Comme d'habitude, vous pouvez trouver tous les détails sur les listes dans la  [documentation](https://docs.python.org/3.7/tutorial/datastructures.html#more-on-lists)."
      ]
    },
    {
      "cell_type": "markdown",
      "metadata": {
        "id": "ovahhxd_L9f5"
      },
      "source": [
        "####Découpage - *Slicing*\n",
        "\n",
        "En plus d'accéder aux éléments de liste un par un, Python fournit une syntaxe concise pour accéder aux sous-listes ; c'est ce qu'on appelle le *slicing* :"
      ]
    },
    {
      "cell_type": "code",
      "source": [
        "for i in range(5):\n",
        "  print(i)"
      ],
      "metadata": {
        "colab": {
          "base_uri": "https://localhost:8080/"
        },
        "id": "Ia0lqd4fMb0z",
        "outputId": "03fd672f-fd94-46ba-efff-e1e802e78400"
      },
      "execution_count": 21,
      "outputs": [
        {
          "output_type": "stream",
          "name": "stdout",
          "text": [
            "0\n",
            "1\n",
            "2\n",
            "3\n",
            "4\n"
          ]
        }
      ]
    },
    {
      "cell_type": "code",
      "source": [
        "list(range(5))"
      ],
      "metadata": {
        "colab": {
          "base_uri": "https://localhost:8080/"
        },
        "id": "avXUdUWYMuKR",
        "outputId": "ef1d5b0f-0a32-4da1-bbb8-fb2000e5da4c"
      },
      "execution_count": 22,
      "outputs": [
        {
          "output_type": "execute_result",
          "data": {
            "text/plain": [
              "[0, 1, 2, 3, 4]"
            ]
          },
          "metadata": {},
          "execution_count": 22
        }
      ]
    },
    {
      "cell_type": "code",
      "metadata": {
        "colab": {
          "base_uri": "https://localhost:8080/"
        },
        "id": "ninq666bL9f6",
        "outputId": "95d5df3d-2566-4ccf-dbde-a0b894fcc823"
      },
      "source": [
        "nums = list(range(5))    # range est une fonction intégrée qui crée une liste d'entiers\n",
        "print(nums)\n",
        "print(nums[2:4])    # Obtenez une tranche de l'index 2 à 4 (exclusif)\n",
        "print(nums[2:])     # Obtenez une tranche de l'index 2 jusqu'à la fin\n",
        "print(nums[:2])     # Obtenir une tranche du début à l'index 2 (exclusif)\n",
        "print(nums[:])      # Obtenir une tranche de la liste complète\n",
        "print(nums[:-2])    # Les indices peuvent être négatifs\n",
        "nums[2:4] = [8, 9]  # Assigner une nouvelle sous-liste à une tranche\n",
        "print(nums)"
      ],
      "execution_count": 23,
      "outputs": [
        {
          "output_type": "stream",
          "name": "stdout",
          "text": [
            "[0, 1, 2, 3, 4]\n",
            "[2, 3]\n",
            "[2, 3, 4]\n",
            "[0, 1]\n",
            "[0, 1, 2, 3, 4]\n",
            "[0, 1, 2]\n",
            "[0, 1, 8, 9, 4]\n"
          ]
        }
      ]
    },
    {
      "cell_type": "markdown",
      "metadata": {
        "id": "UONpMhF4L9f_"
      },
      "source": [
        "####Boucles - *Loops*\n",
        "\n",
        "Vous pouvez passer en boucle sur les éléments d'une liste comme celle-ci :"
      ]
    },
    {
      "cell_type": "code",
      "metadata": {
        "colab": {
          "base_uri": "https://localhost:8080/"
        },
        "id": "4cCOysfWL9gA",
        "outputId": "b0c1195e-83da-42dd-da86-3e728a627c58"
      },
      "source": [
        "jours = ['Lundi', 'Mardi', 'Mercredi', 'Jeudi', 'Vendredi', 'Samedi', 'Dimanche']\n",
        "for jour in jours:\n",
        "    print(jour)"
      ],
      "execution_count": 24,
      "outputs": [
        {
          "output_type": "stream",
          "name": "stdout",
          "text": [
            "Lundi\n",
            "Mardi\n",
            "Mercredi\n",
            "Jeudi\n",
            "Vendredi\n",
            "Samedi\n",
            "Dimanche\n"
          ]
        }
      ]
    },
    {
      "cell_type": "markdown",
      "metadata": {
        "id": "KxIaQs7pL9gE"
      },
      "source": [
        "Si vous voulez accéder à l'index de chaque élément dans le corps d'une boucle, utilisez la fonction intégrée `enumerate` :"
      ]
    },
    {
      "cell_type": "code",
      "metadata": {
        "colab": {
          "base_uri": "https://localhost:8080/"
        },
        "id": "JjGnDluWL9gF",
        "outputId": "04807ada-a5dc-4f75-be48-3bcec0d75172"
      },
      "source": [
        "for idx, jour in enumerate(jours):\n",
        "    print('#{}: {}'.format(idx + 1, jour))"
      ],
      "execution_count": 25,
      "outputs": [
        {
          "output_type": "stream",
          "name": "stdout",
          "text": [
            "#1: Lundi\n",
            "#2: Mardi\n",
            "#3: Mercredi\n",
            "#4: Jeudi\n",
            "#5: Vendredi\n",
            "#6: Samedi\n",
            "#7: Dimanche\n"
          ]
        }
      ]
    },
    {
      "cell_type": "markdown",
      "metadata": {
        "id": "arrLCcMyL9gK"
      },
      "source": [
        "####*List comprehensions:*"
      ]
    },
    {
      "cell_type": "markdown",
      "metadata": {
        "id": "5Qn2jU_pL9gL"
      },
      "source": [
        "Lors de la programmation, nous voulons souvent transformer un type de données en un autre. À titre d'exemple, considérons le code suivant qui calcule des  carrés :"
      ]
    },
    {
      "cell_type": "code",
      "metadata": {
        "colab": {
          "base_uri": "https://localhost:8080/"
        },
        "id": "IVNEwoMXL9gL",
        "outputId": "971188fb-1d6a-4c6a-dfd7-a1d3ef479966"
      },
      "source": [
        "nums = [0, 1, 2, 3, 4]\n",
        "squares = []\n",
        "for x in nums:\n",
        "    squares.append(x ** 2)\n",
        "print(squares)"
      ],
      "execution_count": null,
      "outputs": [
        {
          "output_type": "stream",
          "name": "stdout",
          "text": [
            "[0, 1, 4, 9, 16]\n"
          ]
        }
      ]
    },
    {
      "cell_type": "markdown",
      "metadata": {
        "id": "7DmKVUFaL9gQ"
      },
      "source": [
        "Vous pouvez rendre ce code plus simple en utilisant **\"list comprehension\"**:"
      ]
    },
    {
      "cell_type": "code",
      "metadata": {
        "colab": {
          "base_uri": "https://localhost:8080/"
        },
        "id": "kZxsUfV6L9gR",
        "outputId": "d5e88b2b-e526-4d14-fb83-fb98a7ec2e7b"
      },
      "source": [
        "nums = [0, 1, 2, 3, 4]\n",
        "squares = [x ** 2 for x in nums]\n",
        "print(squares)"
      ],
      "execution_count": null,
      "outputs": [
        {
          "output_type": "stream",
          "name": "stdout",
          "text": [
            "[0, 1, 4, 9, 16]\n"
          ]
        }
      ]
    },
    {
      "cell_type": "markdown",
      "metadata": {
        "id": "-D8ARK7tL9gV"
      },
      "source": [
        "On peut aussi les utiliser avec des conditions:"
      ]
    },
    {
      "cell_type": "code",
      "metadata": {
        "colab": {
          "base_uri": "https://localhost:8080/"
        },
        "id": "yUtgOyyYL9gV",
        "outputId": "f52a1a41-4c39-43e7-fb4d-0b86be11fcf7"
      },
      "source": [
        "nums = [0, 1, 2, 3, 4]\n",
        "even_squares = [x ** 2 for x in nums if x % 2 == 0]\n",
        "print(even_squares)"
      ],
      "execution_count": 26,
      "outputs": [
        {
          "output_type": "stream",
          "name": "stdout",
          "text": [
            "[0, 4, 16]\n"
          ]
        }
      ]
    },
    {
      "cell_type": "markdown",
      "metadata": {
        "id": "H8xsUEFpL9gZ"
      },
      "source": [
        "####Dictionnaires - *Dictionaries*\n",
        "\n",
        "Un dictionnaire stocke des paires (clé, valeur). Vous pouvez l'utiliser comme ceci :"
      ]
    },
    {
      "cell_type": "code",
      "metadata": {
        "colab": {
          "base_uri": "https://localhost:8080/"
        },
        "id": "XBYI1MrYL9gb",
        "outputId": "46b5af67-df53-4903-cbf6-b9de4d701a98"
      },
      "source": [
        "# Créer un nouveau dictionnaire avec des données\n",
        "d = {\n",
        "    'first name': 'Jilali',\n",
        "    'last name': '!Jilali'\n",
        "  }\n",
        "print(d['first name'])\n",
        "print('first name' in d)     # Vérifiez si un dictionnaire possède une clé donnée"
      ],
      "execution_count": 28,
      "outputs": [
        {
          "output_type": "stream",
          "name": "stdout",
          "text": [
            "Jilali\n",
            "True\n"
          ]
        }
      ]
    },
    {
      "cell_type": "code",
      "metadata": {
        "colab": {
          "base_uri": "https://localhost:8080/"
        },
        "id": "pS7e-G-HL9gf",
        "outputId": "58ead864-24e6-4a06-8457-e00f7d4ba9ee"
      },
      "source": [
        "d['job'] = 'astronaut'    # Définir une entrée dans un dictionnaire\n",
        "print(d['job'])"
      ],
      "execution_count": 30,
      "outputs": [
        {
          "output_type": "stream",
          "name": "stdout",
          "text": [
            "astronaut\n"
          ]
        }
      ]
    },
    {
      "cell_type": "code",
      "metadata": {
        "colab": {
          "base_uri": "https://localhost:8080/",
          "height": 144
        },
        "id": "tFY065ItL9gi",
        "outputId": "69a16a10-6f23-4ec1-8156-3e15e2ad0d17",
        "collapsed": true
      },
      "source": [
        "print(d['middle name'])  # Erreur: \"middle name\" n'est pas une clé de d"
      ],
      "execution_count": 31,
      "outputs": [
        {
          "output_type": "error",
          "ename": "KeyError",
          "evalue": "'middle name'",
          "traceback": [
            "\u001b[0;31m---------------------------------------------------------------------------\u001b[0m",
            "\u001b[0;31mKeyError\u001b[0m                                  Traceback (most recent call last)",
            "\u001b[0;32m<ipython-input-31-fcdb60940db7>\u001b[0m in \u001b[0;36m<cell line: 1>\u001b[0;34m()\u001b[0m\n\u001b[0;32m----> 1\u001b[0;31m \u001b[0mprint\u001b[0m\u001b[0;34m(\u001b[0m\u001b[0md\u001b[0m\u001b[0;34m[\u001b[0m\u001b[0;34m'middle name'\u001b[0m\u001b[0;34m]\u001b[0m\u001b[0;34m)\u001b[0m  \u001b[0;31m# Erreur: \"middle name\" n'est pas une clé de d\u001b[0m\u001b[0;34m\u001b[0m\u001b[0;34m\u001b[0m\u001b[0m\n\u001b[0m",
            "\u001b[0;31mKeyError\u001b[0m: 'middle name'"
          ]
        }
      ]
    },
    {
      "cell_type": "code",
      "metadata": {
        "colab": {
          "base_uri": "https://localhost:8080/"
        },
        "id": "8TjbEWqML9gl",
        "outputId": "61982985-7901-489b-bfed-67456216e7bb"
      },
      "source": [
        "print(d.get('first name', 'N/A'))    # Get : Obtenir un élément avec une valeur par défaut\n",
        "print(d.get('middle name', 'N/A'))"
      ],
      "execution_count": null,
      "outputs": [
        {
          "output_type": "stream",
          "name": "stdout",
          "text": [
            "Jilali\n",
            "N/A\n"
          ]
        }
      ]
    },
    {
      "cell_type": "code",
      "metadata": {
        "colab": {
          "base_uri": "https://localhost:8080/"
        },
        "id": "0EItdNBJL9go",
        "outputId": "3b619657-f71b-4c5e-f66b-f31a20bb9194"
      },
      "source": [
        "del d['job']        # Supprimer un élément d'un dictionnaire\n",
        "print(d.get('job', 'N/A'))"
      ],
      "execution_count": null,
      "outputs": [
        {
          "output_type": "stream",
          "name": "stdout",
          "text": [
            "N/A\n"
          ]
        }
      ]
    },
    {
      "cell_type": "markdown",
      "metadata": {
        "id": "wqm4dRZNL9gr"
      },
      "source": [
        "Vous trouverez tout ce que vous devez savoir sur les dictionnaires dans la [documentation](https://docs.python.org/2/library/stdtypes.html#dict)."
      ]
    },
    {
      "cell_type": "markdown",
      "metadata": {
        "id": "IxwEqHlGL9gr"
      },
      "source": [
        "Il est facile d'itérer sur les clés d'un dictionnaire :"
      ]
    },
    {
      "cell_type": "code",
      "metadata": {
        "colab": {
          "base_uri": "https://localhost:8080/"
        },
        "id": "rYfz7ZKNL9gs",
        "outputId": "80b8046a-ff0e-46ee-c43d-0ed2169ebdf1"
      },
      "source": [
        "d = {\n",
        "    'person': 2,\n",
        "    'cat': 4,\n",
        "    'spider': 8\n",
        "  }\n",
        "for animal, legs in d.items():\n",
        "    print('A {} has {} legs'.format(animal, legs))"
      ],
      "execution_count": 32,
      "outputs": [
        {
          "output_type": "stream",
          "name": "stdout",
          "text": [
            "A person has 2 legs\n",
            "A cat has 4 legs\n",
            "A spider has 8 legs\n"
          ]
        }
      ]
    },
    {
      "cell_type": "markdown",
      "metadata": {
        "id": "17sxiOpzL9gz"
      },
      "source": [
        "*Dictionary comprehensions* : Elles sont similaires aux *list comprehensions*, mais vous permettent de construire facilement des dictionnaires"
      ]
    },
    {
      "cell_type": "code",
      "metadata": {
        "colab": {
          "base_uri": "https://localhost:8080/"
        },
        "id": "8PB07imLL9gz",
        "outputId": "eddb7f49-3a36-4747-b0ae-c286ef385964"
      },
      "source": [
        "nums = [0, 1, 2, 3, 4]\n",
        "even_num_to_square = {x: x ** 2 for x in nums if x % 2 == 0}\n",
        "print(even_num_to_square)"
      ],
      "execution_count": null,
      "outputs": [
        {
          "output_type": "stream",
          "name": "stdout",
          "text": [
            "{0: 0, 2: 4, 4: 16}\n"
          ]
        }
      ]
    },
    {
      "cell_type": "markdown",
      "metadata": {
        "id": "V9MHfUdvL9g2"
      },
      "source": [
        "####Ensembles - *Sets*\n",
        "\n",
        "Un ensemble est une collection non ordonnée d'éléments distincts. À titre d'exemple simple, considérons ce qui suit :"
      ]
    },
    {
      "cell_type": "code",
      "metadata": {
        "colab": {
          "base_uri": "https://localhost:8080/"
        },
        "id": "MmyaniLsL9g2",
        "outputId": "a469078e-b93c-4e54-b9ea-924ce536d48c"
      },
      "source": [
        "insects = {'ant', 'bee'}\n",
        "print('bee' in insects)   # Vérifier si un élément fait partie d'un ensemble\n",
        "print('Jilali' in insects)\n"
      ],
      "execution_count": 34,
      "outputs": [
        {
          "output_type": "stream",
          "name": "stdout",
          "text": [
            "True\n",
            "False\n"
          ]
        }
      ]
    },
    {
      "cell_type": "code",
      "metadata": {
        "colab": {
          "base_uri": "https://localhost:8080/"
        },
        "id": "ElJEyK86L9g6",
        "outputId": "37ebbb2c-5eea-42d9-9fa5-dd283d78b961"
      },
      "source": [
        "insects.add('bug')      # Add an element to a set\n",
        "print('bug' in insects)\n",
        "print(len(insects))       # Number of elements in a set;"
      ],
      "execution_count": 35,
      "outputs": [
        {
          "output_type": "stream",
          "name": "stdout",
          "text": [
            "True\n",
            "3\n"
          ]
        }
      ]
    },
    {
      "cell_type": "code",
      "metadata": {
        "colab": {
          "base_uri": "https://localhost:8080/"
        },
        "id": "5uGmrxdPL9g9",
        "outputId": "f93e6b77-163c-4cd9-9218-e1f9a4b8f0a4"
      },
      "source": [
        "insects.add('bee')       # L'ajout d'un élément qui se trouve déjà dans l'ensemble ne fait rien\n",
        "print(len(insects))\n",
        "insects.remove('bug')    # Retirer un élément d'un ensemble\n",
        "print(len(insects))"
      ],
      "execution_count": 36,
      "outputs": [
        {
          "output_type": "stream",
          "name": "stdout",
          "text": [
            "3\n",
            "2\n"
          ]
        }
      ]
    },
    {
      "cell_type": "markdown",
      "metadata": {
        "id": "zk2DbvLKL9g_"
      },
      "source": [
        "Boucles : L'itération sur un ensemble a la même syntaxe que l'itération sur une liste ; cependant, comme les ensembles ne sont pas ordonnés, vous ne pouvez pas faire de suppositions sur l'ordre dans lequel vous visitez les éléments de l'ensemble :"
      ]
    },
    {
      "cell_type": "code",
      "metadata": {
        "colab": {
          "base_uri": "https://localhost:8080/"
        },
        "id": "K47KYNGyL9hA",
        "outputId": "f65f92ce-9f0d-4ce9-f533-1f42d1676adf"
      },
      "source": [
        "insects = {'ant', 'bee', 'bug'}\n",
        "for idx, insect in enumerate(insects):\n",
        "    print('#{}: {}'.format(idx + 1, insect))"
      ],
      "execution_count": 37,
      "outputs": [
        {
          "output_type": "stream",
          "name": "stdout",
          "text": [
            "#1: ant\n",
            "#2: bug\n",
            "#3: bee\n"
          ]
        }
      ]
    },
    {
      "cell_type": "markdown",
      "metadata": {
        "id": "puq4S8buL9hC"
      },
      "source": [
        "Set comprehensions: Comme les listes et les dictionnaires, nous pouvons facilement construire des ensembles en utilisant des compréhensions d'ensembles *set comprehensions* :"
      ]
    },
    {
      "cell_type": "code",
      "source": [
        "import math\n",
        "\n",
        "math.sqrt"
      ],
      "metadata": {
        "id": "d28b2Ct5O5Yr"
      },
      "execution_count": 38,
      "outputs": []
    },
    {
      "cell_type": "code",
      "metadata": {
        "colab": {
          "base_uri": "https://localhost:8080/"
        },
        "id": "iw7k90k3L9hC",
        "outputId": "4a394223-26d6-4350-e366-f94679fa7260"
      },
      "source": [
        "from math import sqrt\n",
        "print({int(sqrt(x)) for x in range(30)})"
      ],
      "execution_count": 39,
      "outputs": [
        {
          "output_type": "stream",
          "name": "stdout",
          "text": [
            "{0, 1, 2, 3, 4, 5}\n"
          ]
        }
      ]
    },
    {
      "cell_type": "markdown",
      "metadata": {
        "id": "qPsHSKB1L9hF"
      },
      "source": [
        "####Tuples\n",
        "\n",
        "Un tuple est une liste figée de valeurs ordonnées. L'une des différences les plus importantes entre un tuple et une liste est que les tuples peuvent être utilisés comme clés dans les dictionnaires et comme éléments d'ensembles, alors que les listes ne le peuvent pas. Voici un exemple trivial :"
      ]
    },
    {
      "cell_type": "code",
      "metadata": {
        "colab": {
          "base_uri": "https://localhost:8080/"
        },
        "id": "9wHUyTKxL9hH",
        "outputId": "77c420e0-babf-4c29-acc1-53acf103ff89"
      },
      "source": [
        "d = {(x, x + 1): x for x in range(10)}  # Créer un dictionnaire avec des tuples\n",
        "print(d)\n",
        "t = (5, 6)       # Créer un tuple\n",
        "print(type(t))\n",
        "print(d[t])\n",
        "print(d[(1, 2)])\n",
        "print(t[0])"
      ],
      "execution_count": 40,
      "outputs": [
        {
          "output_type": "stream",
          "name": "stdout",
          "text": [
            "{(0, 1): 0, (1, 2): 1, (2, 3): 2, (3, 4): 3, (4, 5): 4, (5, 6): 5, (6, 7): 6, (7, 8): 7, (8, 9): 8, (9, 10): 9}\n",
            "<class 'tuple'>\n",
            "5\n",
            "1\n",
            "5\n"
          ]
        }
      ]
    },
    {
      "cell_type": "code",
      "metadata": {
        "colab": {
          "base_uri": "https://localhost:8080/",
          "height": 144
        },
        "id": "HoO8zYKzL9hJ",
        "outputId": "b87c76d1-09e2-40ff-88a6-d76bfbb42c2d"
      },
      "source": [
        "t[0] = 1"
      ],
      "execution_count": null,
      "outputs": [
        {
          "output_type": "error",
          "ename": "TypeError",
          "evalue": "'tuple' object does not support item assignment",
          "traceback": [
            "\u001b[0;31m---------------------------------------------------------------------------\u001b[0m",
            "\u001b[0;31mTypeError\u001b[0m                                 Traceback (most recent call last)",
            "\u001b[0;32m<ipython-input-37-c8aeb8cd20ae>\u001b[0m in \u001b[0;36m<cell line: 1>\u001b[0;34m()\u001b[0m\n\u001b[0;32m----> 1\u001b[0;31m \u001b[0mt\u001b[0m\u001b[0;34m[\u001b[0m\u001b[0;36m0\u001b[0m\u001b[0;34m]\u001b[0m \u001b[0;34m=\u001b[0m \u001b[0;36m1\u001b[0m\u001b[0;34m\u001b[0m\u001b[0;34m\u001b[0m\u001b[0m\n\u001b[0m",
            "\u001b[0;31mTypeError\u001b[0m: 'tuple' object does not support item assignment"
          ]
        }
      ]
    },
    {
      "cell_type": "markdown",
      "metadata": {
        "id": "AXA4jrEOL9hM"
      },
      "source": [
        "###Fonctions - *Functions*\n",
        "\n",
        "Les fonctions python sont définies à l'aide du mot-clé `def` :"
      ]
    },
    {
      "cell_type": "code",
      "metadata": {
        "colab": {
          "base_uri": "https://localhost:8080/"
        },
        "id": "kiMDUr58L9hN",
        "outputId": "311d830f-48eb-4eb4-f6c3-b062d512d09f"
      },
      "source": [
        "def sign(x):\n",
        "    if x > 0:\n",
        "        return 'positive'\n",
        "    elif x < 0:\n",
        "        return 'negative'\n",
        "    else:\n",
        "        return 'zero'\n",
        "\n",
        "for x in [-1, 0, 1]:\n",
        "    print(sign(x))"
      ],
      "execution_count": null,
      "outputs": [
        {
          "output_type": "stream",
          "name": "stdout",
          "text": [
            "negative\n",
            "zero\n",
            "positive\n"
          ]
        }
      ]
    },
    {
      "cell_type": "markdown",
      "metadata": {
        "id": "U-QJFt8TL9hR"
      },
      "source": [
        "Nous définirons souvent des fonctions pour prendre des arguments optionnels:"
      ]
    },
    {
      "cell_type": "code",
      "metadata": {
        "colab": {
          "base_uri": "https://localhost:8080/"
        },
        "id": "PfsZ3DazL9hR",
        "outputId": "cde83de6-58fa-4fb9-9b97-d94a3f49d1ff"
      },
      "source": [
        "def hello(name, loud=False):\n",
        "    if loud:\n",
        "        print(f'HELLO, {name.upper()} !')\n",
        "    else:\n",
        "        print(f'Hello, {name}')\n",
        "\n",
        "hello('jwilili')\n",
        "hello('Jilali', loud=True)"
      ],
      "execution_count": null,
      "outputs": [
        {
          "output_type": "stream",
          "name": "stdout",
          "text": [
            "Hello, jwilili\n",
            "HELLO, JILALI !\n"
          ]
        }
      ]
    },
    {
      "cell_type": "markdown",
      "metadata": {
        "id": "ObA9PRtQL9hT"
      },
      "source": [
        "###Classes"
      ]
    },
    {
      "cell_type": "markdown",
      "metadata": {
        "id": "hAzL_lTkL9hU"
      },
      "source": [
        "La syntaxe pour définir les classes en Python est simple :"
      ]
    },
    {
      "cell_type": "code",
      "metadata": {
        "colab": {
          "base_uri": "https://localhost:8080/"
        },
        "id": "RWdbaGigL9hU",
        "outputId": "995ed326-7658-4642-fd77-e7d22c602e2a"
      },
      "source": [
        "class Greeter:\n",
        "\n",
        "    # Constructeur\n",
        "    def __init__(self, name):\n",
        "        self.name = name  # Créer une instance\n",
        "\n",
        "    # Les methodes (fonctions) de l'instance\n",
        "    def greet(self, loud=False):\n",
        "        if loud:\n",
        "          print('HELLO, {} !'.format(self.name.upper()))\n",
        "        else:\n",
        "          print('Hello, {}'.format(self.name))\n",
        "\n",
        "g = Greeter('jilali')  # Construire une instance de la classe Greeter\n",
        "g.greet()            # Appeler une methode de l'instance\n",
        "g.greet(loud=True)"
      ],
      "execution_count": null,
      "outputs": [
        {
          "output_type": "stream",
          "name": "stdout",
          "text": [
            "Hello, jilali\n",
            "HELLO, JILALI !\n"
          ]
        }
      ]
    },
    {
      "cell_type": "code",
      "metadata": {
        "id": "iU6qC9y7srfx"
      },
      "source": [
        "class CompteBancaire:\n",
        "    def __init__(self, idNumber, nomPrenom, solde, passe):\n",
        "      self.idNumber = idNumber\n",
        "      self.nomPrenom = nomPrenom\n",
        "      self.solde = solde\n",
        "      self.passe = passe\n",
        "\n",
        "    def versement(self, argent):\n",
        "      self.solde = self.solde + argent\n",
        "\n",
        "    def retrait(self, argent):\n",
        "      if(self.solde < argent):\n",
        "        print(\" Impossible d'effectuer l'opération. Solde insuffisant !\")\n",
        "      else:\n",
        "        self.solde = self.solde - argent\n",
        "\n",
        "    def afficher(self):\n",
        "      p = input(\"votre mot de passe svp :\")\n",
        "      if p == self.passe:\n",
        "        print(\"Compte numéro : \" , self.idNumber)\n",
        "        print(\"Nom & Prénom : \", self.nomPrenom)\n",
        "        print(\"Solde  : \", self.solde , \" DH \")\n",
        "        print(\"Merci pour votre visite ! \")\n",
        "      else:\n",
        "        print(\"mot de passe erroné\")"
      ],
      "execution_count": 42,
      "outputs": []
    },
    {
      "cell_type": "code",
      "metadata": {
        "id": "JnG33G6Jsv6y"
      },
      "source": [
        "monCompte = CompteBancaire(15485863, \"Jilali Senior\", 1000000, \"admin\")"
      ],
      "execution_count": null,
      "outputs": []
    },
    {
      "cell_type": "code",
      "metadata": {
        "id": "3Ix_rNzvufMG"
      },
      "source": [
        "monCompte.versement(15000)"
      ],
      "execution_count": null,
      "outputs": []
    },
    {
      "cell_type": "code",
      "metadata": {
        "id": "Nquk1FaMuidG"
      },
      "source": [
        "monCompte.retrait(24000)"
      ],
      "execution_count": null,
      "outputs": []
    },
    {
      "cell_type": "code",
      "metadata": {
        "colab": {
          "base_uri": "https://localhost:8080/"
        },
        "id": "bsbpW7uqulgi",
        "outputId": "e587a60f-1969-49cd-849b-efbb4d73caec"
      },
      "source": [
        "monCompte.afficher()"
      ],
      "execution_count": null,
      "outputs": [
        {
          "output_type": "stream",
          "name": "stdout",
          "text": [
            "votre mot de passe svp :admin\n",
            "Compte numéro :  15485863\n",
            "Nom & Prénom :  Jilali Senior\n",
            "Solde  :  991000  DH \n",
            "Merci pour votre visite ! \n"
          ]
        }
      ]
    },
    {
      "cell_type": "code",
      "metadata": {
        "colab": {
          "base_uri": "https://localhost:8080/"
        },
        "id": "MoNPgNV1uugj",
        "outputId": "60321ea8-ebcf-4ac0-def5-7282d3be1de3"
      },
      "source": [
        "monCompte.retrait(2400000)"
      ],
      "execution_count": null,
      "outputs": [
        {
          "output_type": "stream",
          "name": "stdout",
          "text": [
            " Impossible d'effectuer l'opération. Solde insuffisant !\n"
          ]
        }
      ]
    }
  ]
}
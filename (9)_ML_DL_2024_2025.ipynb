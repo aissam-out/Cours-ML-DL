{
  "nbformat": 4,
  "nbformat_minor": 0,
  "metadata": {
    "colab": {
      "provenance": [],
      "gpuType": "T4"
    },
    "kernelspec": {
      "name": "python3",
      "display_name": "Python 3"
    },
    "language_info": {
      "name": "python"
    },
    "accelerator": "GPU",
    "widgets": {
      "application/vnd.jupyter.widget-state+json": {
        "abeb69432dc447409668b8add4841d97": {
          "model_module": "@jupyter-widgets/controls",
          "model_name": "HBoxModel",
          "model_module_version": "1.5.0",
          "state": {
            "_dom_classes": [],
            "_model_module": "@jupyter-widgets/controls",
            "_model_module_version": "1.5.0",
            "_model_name": "HBoxModel",
            "_view_count": null,
            "_view_module": "@jupyter-widgets/controls",
            "_view_module_version": "1.5.0",
            "_view_name": "HBoxView",
            "box_style": "",
            "children": [
              "IPY_MODEL_409baa6664564adbb44b9ac9bdac25c2",
              "IPY_MODEL_a765a37d1f374b43ab73b302e7dceb9b",
              "IPY_MODEL_0ea507478a2b48dc9de45a706909dd9d"
            ],
            "layout": "IPY_MODEL_0bcbe868b01f4d48ba302722173a9a6c"
          }
        },
        "409baa6664564adbb44b9ac9bdac25c2": {
          "model_module": "@jupyter-widgets/controls",
          "model_name": "HTMLModel",
          "model_module_version": "1.5.0",
          "state": {
            "_dom_classes": [],
            "_model_module": "@jupyter-widgets/controls",
            "_model_module_version": "1.5.0",
            "_model_name": "HTMLModel",
            "_view_count": null,
            "_view_module": "@jupyter-widgets/controls",
            "_view_module_version": "1.5.0",
            "_view_name": "HTMLView",
            "description": "",
            "description_tooltip": null,
            "layout": "IPY_MODEL_445dd8feb21b4c648e8b5a60d1204421",
            "placeholder": "​",
            "style": "IPY_MODEL_068ca818903046eebdb040dd4b763ea1",
            "value": "pytorch_model.bin: 100%"
          }
        },
        "a765a37d1f374b43ab73b302e7dceb9b": {
          "model_module": "@jupyter-widgets/controls",
          "model_name": "FloatProgressModel",
          "model_module_version": "1.5.0",
          "state": {
            "_dom_classes": [],
            "_model_module": "@jupyter-widgets/controls",
            "_model_module_version": "1.5.0",
            "_model_name": "FloatProgressModel",
            "_view_count": null,
            "_view_module": "@jupyter-widgets/controls",
            "_view_module_version": "1.5.0",
            "_view_name": "ProgressView",
            "bar_style": "success",
            "description": "",
            "description_tooltip": null,
            "layout": "IPY_MODEL_5a7ccdbed4704e748d824618a34689a0",
            "max": 548118077,
            "min": 0,
            "orientation": "horizontal",
            "style": "IPY_MODEL_b42ec24bda25418f9bccf18c08e78d03",
            "value": 548118077
          }
        },
        "0ea507478a2b48dc9de45a706909dd9d": {
          "model_module": "@jupyter-widgets/controls",
          "model_name": "HTMLModel",
          "model_module_version": "1.5.0",
          "state": {
            "_dom_classes": [],
            "_model_module": "@jupyter-widgets/controls",
            "_model_module_version": "1.5.0",
            "_model_name": "HTMLModel",
            "_view_count": null,
            "_view_module": "@jupyter-widgets/controls",
            "_view_module_version": "1.5.0",
            "_view_name": "HTMLView",
            "description": "",
            "description_tooltip": null,
            "layout": "IPY_MODEL_5eaf7ebc243d4471a8c8be6fd8c5f780",
            "placeholder": "​",
            "style": "IPY_MODEL_d2968a30bf694a8e8665cedc10856368",
            "value": " 548M/548M [00:02&lt;00:00, 175MB/s]"
          }
        },
        "0bcbe868b01f4d48ba302722173a9a6c": {
          "model_module": "@jupyter-widgets/base",
          "model_name": "LayoutModel",
          "model_module_version": "1.2.0",
          "state": {
            "_model_module": "@jupyter-widgets/base",
            "_model_module_version": "1.2.0",
            "_model_name": "LayoutModel",
            "_view_count": null,
            "_view_module": "@jupyter-widgets/base",
            "_view_module_version": "1.2.0",
            "_view_name": "LayoutView",
            "align_content": null,
            "align_items": null,
            "align_self": null,
            "border": null,
            "bottom": null,
            "display": null,
            "flex": null,
            "flex_flow": null,
            "grid_area": null,
            "grid_auto_columns": null,
            "grid_auto_flow": null,
            "grid_auto_rows": null,
            "grid_column": null,
            "grid_gap": null,
            "grid_row": null,
            "grid_template_areas": null,
            "grid_template_columns": null,
            "grid_template_rows": null,
            "height": null,
            "justify_content": null,
            "justify_items": null,
            "left": null,
            "margin": null,
            "max_height": null,
            "max_width": null,
            "min_height": null,
            "min_width": null,
            "object_fit": null,
            "object_position": null,
            "order": null,
            "overflow": null,
            "overflow_x": null,
            "overflow_y": null,
            "padding": null,
            "right": null,
            "top": null,
            "visibility": null,
            "width": null
          }
        },
        "445dd8feb21b4c648e8b5a60d1204421": {
          "model_module": "@jupyter-widgets/base",
          "model_name": "LayoutModel",
          "model_module_version": "1.2.0",
          "state": {
            "_model_module": "@jupyter-widgets/base",
            "_model_module_version": "1.2.0",
            "_model_name": "LayoutModel",
            "_view_count": null,
            "_view_module": "@jupyter-widgets/base",
            "_view_module_version": "1.2.0",
            "_view_name": "LayoutView",
            "align_content": null,
            "align_items": null,
            "align_self": null,
            "border": null,
            "bottom": null,
            "display": null,
            "flex": null,
            "flex_flow": null,
            "grid_area": null,
            "grid_auto_columns": null,
            "grid_auto_flow": null,
            "grid_auto_rows": null,
            "grid_column": null,
            "grid_gap": null,
            "grid_row": null,
            "grid_template_areas": null,
            "grid_template_columns": null,
            "grid_template_rows": null,
            "height": null,
            "justify_content": null,
            "justify_items": null,
            "left": null,
            "margin": null,
            "max_height": null,
            "max_width": null,
            "min_height": null,
            "min_width": null,
            "object_fit": null,
            "object_position": null,
            "order": null,
            "overflow": null,
            "overflow_x": null,
            "overflow_y": null,
            "padding": null,
            "right": null,
            "top": null,
            "visibility": null,
            "width": null
          }
        },
        "068ca818903046eebdb040dd4b763ea1": {
          "model_module": "@jupyter-widgets/controls",
          "model_name": "DescriptionStyleModel",
          "model_module_version": "1.5.0",
          "state": {
            "_model_module": "@jupyter-widgets/controls",
            "_model_module_version": "1.5.0",
            "_model_name": "DescriptionStyleModel",
            "_view_count": null,
            "_view_module": "@jupyter-widgets/base",
            "_view_module_version": "1.2.0",
            "_view_name": "StyleView",
            "description_width": ""
          }
        },
        "5a7ccdbed4704e748d824618a34689a0": {
          "model_module": "@jupyter-widgets/base",
          "model_name": "LayoutModel",
          "model_module_version": "1.2.0",
          "state": {
            "_model_module": "@jupyter-widgets/base",
            "_model_module_version": "1.2.0",
            "_model_name": "LayoutModel",
            "_view_count": null,
            "_view_module": "@jupyter-widgets/base",
            "_view_module_version": "1.2.0",
            "_view_name": "LayoutView",
            "align_content": null,
            "align_items": null,
            "align_self": null,
            "border": null,
            "bottom": null,
            "display": null,
            "flex": null,
            "flex_flow": null,
            "grid_area": null,
            "grid_auto_columns": null,
            "grid_auto_flow": null,
            "grid_auto_rows": null,
            "grid_column": null,
            "grid_gap": null,
            "grid_row": null,
            "grid_template_areas": null,
            "grid_template_columns": null,
            "grid_template_rows": null,
            "height": null,
            "justify_content": null,
            "justify_items": null,
            "left": null,
            "margin": null,
            "max_height": null,
            "max_width": null,
            "min_height": null,
            "min_width": null,
            "object_fit": null,
            "object_position": null,
            "order": null,
            "overflow": null,
            "overflow_x": null,
            "overflow_y": null,
            "padding": null,
            "right": null,
            "top": null,
            "visibility": null,
            "width": null
          }
        },
        "b42ec24bda25418f9bccf18c08e78d03": {
          "model_module": "@jupyter-widgets/controls",
          "model_name": "ProgressStyleModel",
          "model_module_version": "1.5.0",
          "state": {
            "_model_module": "@jupyter-widgets/controls",
            "_model_module_version": "1.5.0",
            "_model_name": "ProgressStyleModel",
            "_view_count": null,
            "_view_module": "@jupyter-widgets/base",
            "_view_module_version": "1.2.0",
            "_view_name": "StyleView",
            "bar_color": null,
            "description_width": ""
          }
        },
        "5eaf7ebc243d4471a8c8be6fd8c5f780": {
          "model_module": "@jupyter-widgets/base",
          "model_name": "LayoutModel",
          "model_module_version": "1.2.0",
          "state": {
            "_model_module": "@jupyter-widgets/base",
            "_model_module_version": "1.2.0",
            "_model_name": "LayoutModel",
            "_view_count": null,
            "_view_module": "@jupyter-widgets/base",
            "_view_module_version": "1.2.0",
            "_view_name": "LayoutView",
            "align_content": null,
            "align_items": null,
            "align_self": null,
            "border": null,
            "bottom": null,
            "display": null,
            "flex": null,
            "flex_flow": null,
            "grid_area": null,
            "grid_auto_columns": null,
            "grid_auto_flow": null,
            "grid_auto_rows": null,
            "grid_column": null,
            "grid_gap": null,
            "grid_row": null,
            "grid_template_areas": null,
            "grid_template_columns": null,
            "grid_template_rows": null,
            "height": null,
            "justify_content": null,
            "justify_items": null,
            "left": null,
            "margin": null,
            "max_height": null,
            "max_width": null,
            "min_height": null,
            "min_width": null,
            "object_fit": null,
            "object_position": null,
            "order": null,
            "overflow": null,
            "overflow_x": null,
            "overflow_y": null,
            "padding": null,
            "right": null,
            "top": null,
            "visibility": null,
            "width": null
          }
        },
        "d2968a30bf694a8e8665cedc10856368": {
          "model_module": "@jupyter-widgets/controls",
          "model_name": "DescriptionStyleModel",
          "model_module_version": "1.5.0",
          "state": {
            "_model_module": "@jupyter-widgets/controls",
            "_model_module_version": "1.5.0",
            "_model_name": "DescriptionStyleModel",
            "_view_count": null,
            "_view_module": "@jupyter-widgets/base",
            "_view_module_version": "1.2.0",
            "_view_name": "StyleView",
            "description_width": ""
          }
        },
        "1ecf58080dbd4d67823c34bb72055491": {
          "model_module": "@jupyter-widgets/controls",
          "model_name": "HBoxModel",
          "model_module_version": "1.5.0",
          "state": {
            "_dom_classes": [],
            "_model_module": "@jupyter-widgets/controls",
            "_model_module_version": "1.5.0",
            "_model_name": "HBoxModel",
            "_view_count": null,
            "_view_module": "@jupyter-widgets/controls",
            "_view_module_version": "1.5.0",
            "_view_name": "HBoxView",
            "box_style": "",
            "children": [
              "IPY_MODEL_13adf1be02de45ae97349c491aec966f",
              "IPY_MODEL_4b7b26e3abcf4984a8779096183d2842",
              "IPY_MODEL_f37face7b59e4a978eafc5324fa37239"
            ],
            "layout": "IPY_MODEL_30f5a5e2f37b46f8a9f50a897a944eb4"
          }
        },
        "13adf1be02de45ae97349c491aec966f": {
          "model_module": "@jupyter-widgets/controls",
          "model_name": "HTMLModel",
          "model_module_version": "1.5.0",
          "state": {
            "_dom_classes": [],
            "_model_module": "@jupyter-widgets/controls",
            "_model_module_version": "1.5.0",
            "_model_name": "HTMLModel",
            "_view_count": null,
            "_view_module": "@jupyter-widgets/controls",
            "_view_module_version": "1.5.0",
            "_view_name": "HTMLView",
            "description": "",
            "description_tooltip": null,
            "layout": "IPY_MODEL_2a39bd0b50244731b80e1606b57d5e55",
            "placeholder": "​",
            "style": "IPY_MODEL_f3ee4a19597f40e4b95b93b2c369f4c3",
            "value": "config.json: 100%"
          }
        },
        "4b7b26e3abcf4984a8779096183d2842": {
          "model_module": "@jupyter-widgets/controls",
          "model_name": "FloatProgressModel",
          "model_module_version": "1.5.0",
          "state": {
            "_dom_classes": [],
            "_model_module": "@jupyter-widgets/controls",
            "_model_module_version": "1.5.0",
            "_model_name": "FloatProgressModel",
            "_view_count": null,
            "_view_module": "@jupyter-widgets/controls",
            "_view_module_version": "1.5.0",
            "_view_name": "ProgressView",
            "bar_style": "success",
            "description": "",
            "description_tooltip": null,
            "layout": "IPY_MODEL_9a4ce711b0404e1987a913d16ecadbbe",
            "max": 1206,
            "min": 0,
            "orientation": "horizontal",
            "style": "IPY_MODEL_67b689f8afca4b02bc6f036641f490c6",
            "value": 1206
          }
        },
        "f37face7b59e4a978eafc5324fa37239": {
          "model_module": "@jupyter-widgets/controls",
          "model_name": "HTMLModel",
          "model_module_version": "1.5.0",
          "state": {
            "_dom_classes": [],
            "_model_module": "@jupyter-widgets/controls",
            "_model_module_version": "1.5.0",
            "_model_name": "HTMLModel",
            "_view_count": null,
            "_view_module": "@jupyter-widgets/controls",
            "_view_module_version": "1.5.0",
            "_view_name": "HTMLView",
            "description": "",
            "description_tooltip": null,
            "layout": "IPY_MODEL_5395107de71d427685b74b77b4f745ae",
            "placeholder": "​",
            "style": "IPY_MODEL_45862d75e5484f4d9f7884aff7b0d1aa",
            "value": " 1.21k/1.21k [00:00&lt;00:00, 39.7kB/s]"
          }
        },
        "30f5a5e2f37b46f8a9f50a897a944eb4": {
          "model_module": "@jupyter-widgets/base",
          "model_name": "LayoutModel",
          "model_module_version": "1.2.0",
          "state": {
            "_model_module": "@jupyter-widgets/base",
            "_model_module_version": "1.2.0",
            "_model_name": "LayoutModel",
            "_view_count": null,
            "_view_module": "@jupyter-widgets/base",
            "_view_module_version": "1.2.0",
            "_view_name": "LayoutView",
            "align_content": null,
            "align_items": null,
            "align_self": null,
            "border": null,
            "bottom": null,
            "display": null,
            "flex": null,
            "flex_flow": null,
            "grid_area": null,
            "grid_auto_columns": null,
            "grid_auto_flow": null,
            "grid_auto_rows": null,
            "grid_column": null,
            "grid_gap": null,
            "grid_row": null,
            "grid_template_areas": null,
            "grid_template_columns": null,
            "grid_template_rows": null,
            "height": null,
            "justify_content": null,
            "justify_items": null,
            "left": null,
            "margin": null,
            "max_height": null,
            "max_width": null,
            "min_height": null,
            "min_width": null,
            "object_fit": null,
            "object_position": null,
            "order": null,
            "overflow": null,
            "overflow_x": null,
            "overflow_y": null,
            "padding": null,
            "right": null,
            "top": null,
            "visibility": null,
            "width": null
          }
        },
        "2a39bd0b50244731b80e1606b57d5e55": {
          "model_module": "@jupyter-widgets/base",
          "model_name": "LayoutModel",
          "model_module_version": "1.2.0",
          "state": {
            "_model_module": "@jupyter-widgets/base",
            "_model_module_version": "1.2.0",
            "_model_name": "LayoutModel",
            "_view_count": null,
            "_view_module": "@jupyter-widgets/base",
            "_view_module_version": "1.2.0",
            "_view_name": "LayoutView",
            "align_content": null,
            "align_items": null,
            "align_self": null,
            "border": null,
            "bottom": null,
            "display": null,
            "flex": null,
            "flex_flow": null,
            "grid_area": null,
            "grid_auto_columns": null,
            "grid_auto_flow": null,
            "grid_auto_rows": null,
            "grid_column": null,
            "grid_gap": null,
            "grid_row": null,
            "grid_template_areas": null,
            "grid_template_columns": null,
            "grid_template_rows": null,
            "height": null,
            "justify_content": null,
            "justify_items": null,
            "left": null,
            "margin": null,
            "max_height": null,
            "max_width": null,
            "min_height": null,
            "min_width": null,
            "object_fit": null,
            "object_position": null,
            "order": null,
            "overflow": null,
            "overflow_x": null,
            "overflow_y": null,
            "padding": null,
            "right": null,
            "top": null,
            "visibility": null,
            "width": null
          }
        },
        "f3ee4a19597f40e4b95b93b2c369f4c3": {
          "model_module": "@jupyter-widgets/controls",
          "model_name": "DescriptionStyleModel",
          "model_module_version": "1.5.0",
          "state": {
            "_model_module": "@jupyter-widgets/controls",
            "_model_module_version": "1.5.0",
            "_model_name": "DescriptionStyleModel",
            "_view_count": null,
            "_view_module": "@jupyter-widgets/base",
            "_view_module_version": "1.2.0",
            "_view_name": "StyleView",
            "description_width": ""
          }
        },
        "9a4ce711b0404e1987a913d16ecadbbe": {
          "model_module": "@jupyter-widgets/base",
          "model_name": "LayoutModel",
          "model_module_version": "1.2.0",
          "state": {
            "_model_module": "@jupyter-widgets/base",
            "_model_module_version": "1.2.0",
            "_model_name": "LayoutModel",
            "_view_count": null,
            "_view_module": "@jupyter-widgets/base",
            "_view_module_version": "1.2.0",
            "_view_name": "LayoutView",
            "align_content": null,
            "align_items": null,
            "align_self": null,
            "border": null,
            "bottom": null,
            "display": null,
            "flex": null,
            "flex_flow": null,
            "grid_area": null,
            "grid_auto_columns": null,
            "grid_auto_flow": null,
            "grid_auto_rows": null,
            "grid_column": null,
            "grid_gap": null,
            "grid_row": null,
            "grid_template_areas": null,
            "grid_template_columns": null,
            "grid_template_rows": null,
            "height": null,
            "justify_content": null,
            "justify_items": null,
            "left": null,
            "margin": null,
            "max_height": null,
            "max_width": null,
            "min_height": null,
            "min_width": null,
            "object_fit": null,
            "object_position": null,
            "order": null,
            "overflow": null,
            "overflow_x": null,
            "overflow_y": null,
            "padding": null,
            "right": null,
            "top": null,
            "visibility": null,
            "width": null
          }
        },
        "67b689f8afca4b02bc6f036641f490c6": {
          "model_module": "@jupyter-widgets/controls",
          "model_name": "ProgressStyleModel",
          "model_module_version": "1.5.0",
          "state": {
            "_model_module": "@jupyter-widgets/controls",
            "_model_module_version": "1.5.0",
            "_model_name": "ProgressStyleModel",
            "_view_count": null,
            "_view_module": "@jupyter-widgets/base",
            "_view_module_version": "1.2.0",
            "_view_name": "StyleView",
            "bar_color": null,
            "description_width": ""
          }
        },
        "5395107de71d427685b74b77b4f745ae": {
          "model_module": "@jupyter-widgets/base",
          "model_name": "LayoutModel",
          "model_module_version": "1.2.0",
          "state": {
            "_model_module": "@jupyter-widgets/base",
            "_model_module_version": "1.2.0",
            "_model_name": "LayoutModel",
            "_view_count": null,
            "_view_module": "@jupyter-widgets/base",
            "_view_module_version": "1.2.0",
            "_view_name": "LayoutView",
            "align_content": null,
            "align_items": null,
            "align_self": null,
            "border": null,
            "bottom": null,
            "display": null,
            "flex": null,
            "flex_flow": null,
            "grid_area": null,
            "grid_auto_columns": null,
            "grid_auto_flow": null,
            "grid_auto_rows": null,
            "grid_column": null,
            "grid_gap": null,
            "grid_row": null,
            "grid_template_areas": null,
            "grid_template_columns": null,
            "grid_template_rows": null,
            "height": null,
            "justify_content": null,
            "justify_items": null,
            "left": null,
            "margin": null,
            "max_height": null,
            "max_width": null,
            "min_height": null,
            "min_width": null,
            "object_fit": null,
            "object_position": null,
            "order": null,
            "overflow": null,
            "overflow_x": null,
            "overflow_y": null,
            "padding": null,
            "right": null,
            "top": null,
            "visibility": null,
            "width": null
          }
        },
        "45862d75e5484f4d9f7884aff7b0d1aa": {
          "model_module": "@jupyter-widgets/controls",
          "model_name": "DescriptionStyleModel",
          "model_module_version": "1.5.0",
          "state": {
            "_model_module": "@jupyter-widgets/controls",
            "_model_module_version": "1.5.0",
            "_model_name": "DescriptionStyleModel",
            "_view_count": null,
            "_view_module": "@jupyter-widgets/base",
            "_view_module_version": "1.2.0",
            "_view_name": "StyleView",
            "description_width": ""
          }
        },
        "42683866f1e74c489afc47124f0e8756": {
          "model_module": "@jupyter-widgets/controls",
          "model_name": "HBoxModel",
          "model_module_version": "1.5.0",
          "state": {
            "_dom_classes": [],
            "_model_module": "@jupyter-widgets/controls",
            "_model_module_version": "1.5.0",
            "_model_name": "HBoxModel",
            "_view_count": null,
            "_view_module": "@jupyter-widgets/controls",
            "_view_module_version": "1.5.0",
            "_view_name": "HBoxView",
            "box_style": "",
            "children": [
              "IPY_MODEL_26ce3a4a390c43fd981d0337698e7f65",
              "IPY_MODEL_fefe1bc6c6784b5cb16c4a5dd5e81b50",
              "IPY_MODEL_8dbded8d5692489a8823f0d4dca9ea3d"
            ],
            "layout": "IPY_MODEL_7e56dc3bfbf84cad89d2c4c73bf54ad2"
          }
        },
        "26ce3a4a390c43fd981d0337698e7f65": {
          "model_module": "@jupyter-widgets/controls",
          "model_name": "HTMLModel",
          "model_module_version": "1.5.0",
          "state": {
            "_dom_classes": [],
            "_model_module": "@jupyter-widgets/controls",
            "_model_module_version": "1.5.0",
            "_model_name": "HTMLModel",
            "_view_count": null,
            "_view_module": "@jupyter-widgets/controls",
            "_view_module_version": "1.5.0",
            "_view_name": "HTMLView",
            "description": "",
            "description_tooltip": null,
            "layout": "IPY_MODEL_e5958545632240a7ad85fdcc0c4f2c90",
            "placeholder": "​",
            "style": "IPY_MODEL_9d59050d0b0e4c8a9bc95d4edb6af51a",
            "value": "model.safetensors: 100%"
          }
        },
        "fefe1bc6c6784b5cb16c4a5dd5e81b50": {
          "model_module": "@jupyter-widgets/controls",
          "model_name": "FloatProgressModel",
          "model_module_version": "1.5.0",
          "state": {
            "_dom_classes": [],
            "_model_module": "@jupyter-widgets/controls",
            "_model_module_version": "1.5.0",
            "_model_name": "FloatProgressModel",
            "_view_count": null,
            "_view_module": "@jupyter-widgets/controls",
            "_view_module_version": "1.5.0",
            "_view_name": "ProgressView",
            "bar_style": "success",
            "description": "",
            "description_tooltip": null,
            "layout": "IPY_MODEL_85ff014321bb4035b58c856ec3e5cb47",
            "max": 242043056,
            "min": 0,
            "orientation": "horizontal",
            "style": "IPY_MODEL_7879a93017794f5c866ea58c654de2b6",
            "value": 242043056
          }
        },
        "8dbded8d5692489a8823f0d4dca9ea3d": {
          "model_module": "@jupyter-widgets/controls",
          "model_name": "HTMLModel",
          "model_module_version": "1.5.0",
          "state": {
            "_dom_classes": [],
            "_model_module": "@jupyter-widgets/controls",
            "_model_module_version": "1.5.0",
            "_model_name": "HTMLModel",
            "_view_count": null,
            "_view_module": "@jupyter-widgets/controls",
            "_view_module_version": "1.5.0",
            "_view_name": "HTMLView",
            "description": "",
            "description_tooltip": null,
            "layout": "IPY_MODEL_3545ea71e35f413292db5adb9146c31c",
            "placeholder": "​",
            "style": "IPY_MODEL_d8cc8e7341fa47a2be4bb5fbfc25f442",
            "value": " 242M/242M [00:01&lt;00:00, 195MB/s]"
          }
        },
        "7e56dc3bfbf84cad89d2c4c73bf54ad2": {
          "model_module": "@jupyter-widgets/base",
          "model_name": "LayoutModel",
          "model_module_version": "1.2.0",
          "state": {
            "_model_module": "@jupyter-widgets/base",
            "_model_module_version": "1.2.0",
            "_model_name": "LayoutModel",
            "_view_count": null,
            "_view_module": "@jupyter-widgets/base",
            "_view_module_version": "1.2.0",
            "_view_name": "LayoutView",
            "align_content": null,
            "align_items": null,
            "align_self": null,
            "border": null,
            "bottom": null,
            "display": null,
            "flex": null,
            "flex_flow": null,
            "grid_area": null,
            "grid_auto_columns": null,
            "grid_auto_flow": null,
            "grid_auto_rows": null,
            "grid_column": null,
            "grid_gap": null,
            "grid_row": null,
            "grid_template_areas": null,
            "grid_template_columns": null,
            "grid_template_rows": null,
            "height": null,
            "justify_content": null,
            "justify_items": null,
            "left": null,
            "margin": null,
            "max_height": null,
            "max_width": null,
            "min_height": null,
            "min_width": null,
            "object_fit": null,
            "object_position": null,
            "order": null,
            "overflow": null,
            "overflow_x": null,
            "overflow_y": null,
            "padding": null,
            "right": null,
            "top": null,
            "visibility": null,
            "width": null
          }
        },
        "e5958545632240a7ad85fdcc0c4f2c90": {
          "model_module": "@jupyter-widgets/base",
          "model_name": "LayoutModel",
          "model_module_version": "1.2.0",
          "state": {
            "_model_module": "@jupyter-widgets/base",
            "_model_module_version": "1.2.0",
            "_model_name": "LayoutModel",
            "_view_count": null,
            "_view_module": "@jupyter-widgets/base",
            "_view_module_version": "1.2.0",
            "_view_name": "LayoutView",
            "align_content": null,
            "align_items": null,
            "align_self": null,
            "border": null,
            "bottom": null,
            "display": null,
            "flex": null,
            "flex_flow": null,
            "grid_area": null,
            "grid_auto_columns": null,
            "grid_auto_flow": null,
            "grid_auto_rows": null,
            "grid_column": null,
            "grid_gap": null,
            "grid_row": null,
            "grid_template_areas": null,
            "grid_template_columns": null,
            "grid_template_rows": null,
            "height": null,
            "justify_content": null,
            "justify_items": null,
            "left": null,
            "margin": null,
            "max_height": null,
            "max_width": null,
            "min_height": null,
            "min_width": null,
            "object_fit": null,
            "object_position": null,
            "order": null,
            "overflow": null,
            "overflow_x": null,
            "overflow_y": null,
            "padding": null,
            "right": null,
            "top": null,
            "visibility": null,
            "width": null
          }
        },
        "9d59050d0b0e4c8a9bc95d4edb6af51a": {
          "model_module": "@jupyter-widgets/controls",
          "model_name": "DescriptionStyleModel",
          "model_module_version": "1.5.0",
          "state": {
            "_model_module": "@jupyter-widgets/controls",
            "_model_module_version": "1.5.0",
            "_model_name": "DescriptionStyleModel",
            "_view_count": null,
            "_view_module": "@jupyter-widgets/base",
            "_view_module_version": "1.2.0",
            "_view_name": "StyleView",
            "description_width": ""
          }
        },
        "85ff014321bb4035b58c856ec3e5cb47": {
          "model_module": "@jupyter-widgets/base",
          "model_name": "LayoutModel",
          "model_module_version": "1.2.0",
          "state": {
            "_model_module": "@jupyter-widgets/base",
            "_model_module_version": "1.2.0",
            "_model_name": "LayoutModel",
            "_view_count": null,
            "_view_module": "@jupyter-widgets/base",
            "_view_module_version": "1.2.0",
            "_view_name": "LayoutView",
            "align_content": null,
            "align_items": null,
            "align_self": null,
            "border": null,
            "bottom": null,
            "display": null,
            "flex": null,
            "flex_flow": null,
            "grid_area": null,
            "grid_auto_columns": null,
            "grid_auto_flow": null,
            "grid_auto_rows": null,
            "grid_column": null,
            "grid_gap": null,
            "grid_row": null,
            "grid_template_areas": null,
            "grid_template_columns": null,
            "grid_template_rows": null,
            "height": null,
            "justify_content": null,
            "justify_items": null,
            "left": null,
            "margin": null,
            "max_height": null,
            "max_width": null,
            "min_height": null,
            "min_width": null,
            "object_fit": null,
            "object_position": null,
            "order": null,
            "overflow": null,
            "overflow_x": null,
            "overflow_y": null,
            "padding": null,
            "right": null,
            "top": null,
            "visibility": null,
            "width": null
          }
        },
        "7879a93017794f5c866ea58c654de2b6": {
          "model_module": "@jupyter-widgets/controls",
          "model_name": "ProgressStyleModel",
          "model_module_version": "1.5.0",
          "state": {
            "_model_module": "@jupyter-widgets/controls",
            "_model_module_version": "1.5.0",
            "_model_name": "ProgressStyleModel",
            "_view_count": null,
            "_view_module": "@jupyter-widgets/base",
            "_view_module_version": "1.2.0",
            "_view_name": "StyleView",
            "bar_color": null,
            "description_width": ""
          }
        },
        "3545ea71e35f413292db5adb9146c31c": {
          "model_module": "@jupyter-widgets/base",
          "model_name": "LayoutModel",
          "model_module_version": "1.2.0",
          "state": {
            "_model_module": "@jupyter-widgets/base",
            "_model_module_version": "1.2.0",
            "_model_name": "LayoutModel",
            "_view_count": null,
            "_view_module": "@jupyter-widgets/base",
            "_view_module_version": "1.2.0",
            "_view_name": "LayoutView",
            "align_content": null,
            "align_items": null,
            "align_self": null,
            "border": null,
            "bottom": null,
            "display": null,
            "flex": null,
            "flex_flow": null,
            "grid_area": null,
            "grid_auto_columns": null,
            "grid_auto_flow": null,
            "grid_auto_rows": null,
            "grid_column": null,
            "grid_gap": null,
            "grid_row": null,
            "grid_template_areas": null,
            "grid_template_columns": null,
            "grid_template_rows": null,
            "height": null,
            "justify_content": null,
            "justify_items": null,
            "left": null,
            "margin": null,
            "max_height": null,
            "max_width": null,
            "min_height": null,
            "min_width": null,
            "object_fit": null,
            "object_position": null,
            "order": null,
            "overflow": null,
            "overflow_x": null,
            "overflow_y": null,
            "padding": null,
            "right": null,
            "top": null,
            "visibility": null,
            "width": null
          }
        },
        "d8cc8e7341fa47a2be4bb5fbfc25f442": {
          "model_module": "@jupyter-widgets/controls",
          "model_name": "DescriptionStyleModel",
          "model_module_version": "1.5.0",
          "state": {
            "_model_module": "@jupyter-widgets/controls",
            "_model_module_version": "1.5.0",
            "_model_name": "DescriptionStyleModel",
            "_view_count": null,
            "_view_module": "@jupyter-widgets/base",
            "_view_module_version": "1.2.0",
            "_view_name": "StyleView",
            "description_width": ""
          }
        },
        "a093e2a03c1c4929a3273d1c7e383936": {
          "model_module": "@jupyter-widgets/controls",
          "model_name": "HBoxModel",
          "model_module_version": "1.5.0",
          "state": {
            "_dom_classes": [],
            "_model_module": "@jupyter-widgets/controls",
            "_model_module_version": "1.5.0",
            "_model_name": "HBoxModel",
            "_view_count": null,
            "_view_module": "@jupyter-widgets/controls",
            "_view_module_version": "1.5.0",
            "_view_name": "HBoxView",
            "box_style": "",
            "children": [
              "IPY_MODEL_1db85088a4e7482cbfc92375e8426e96",
              "IPY_MODEL_f52f82c5021a4ca4a0c14db9318ca55e",
              "IPY_MODEL_0c10bb186f3a42b68b911a71b4e6105a"
            ],
            "layout": "IPY_MODEL_55a1e12ff73f43bbac7e7f776d69f9d3"
          }
        },
        "1db85088a4e7482cbfc92375e8426e96": {
          "model_module": "@jupyter-widgets/controls",
          "model_name": "HTMLModel",
          "model_module_version": "1.5.0",
          "state": {
            "_dom_classes": [],
            "_model_module": "@jupyter-widgets/controls",
            "_model_module_version": "1.5.0",
            "_model_name": "HTMLModel",
            "_view_count": null,
            "_view_module": "@jupyter-widgets/controls",
            "_view_module_version": "1.5.0",
            "_view_name": "HTMLView",
            "description": "",
            "description_tooltip": null,
            "layout": "IPY_MODEL_d4bffa3214ed4ed6ab887746d52e4f45",
            "placeholder": "​",
            "style": "IPY_MODEL_09cddd2a48464970942d2064066443f3",
            "value": "tokenizer_config.json: 100%"
          }
        },
        "f52f82c5021a4ca4a0c14db9318ca55e": {
          "model_module": "@jupyter-widgets/controls",
          "model_name": "FloatProgressModel",
          "model_module_version": "1.5.0",
          "state": {
            "_dom_classes": [],
            "_model_module": "@jupyter-widgets/controls",
            "_model_module_version": "1.5.0",
            "_model_name": "FloatProgressModel",
            "_view_count": null,
            "_view_module": "@jupyter-widgets/controls",
            "_view_module_version": "1.5.0",
            "_view_name": "ProgressView",
            "bar_style": "success",
            "description": "",
            "description_tooltip": null,
            "layout": "IPY_MODEL_5d19b90a987240119a74f5fad7d3181e",
            "max": 2324,
            "min": 0,
            "orientation": "horizontal",
            "style": "IPY_MODEL_1850dcee4c7a48f486f5383a84777df6",
            "value": 2324
          }
        },
        "0c10bb186f3a42b68b911a71b4e6105a": {
          "model_module": "@jupyter-widgets/controls",
          "model_name": "HTMLModel",
          "model_module_version": "1.5.0",
          "state": {
            "_dom_classes": [],
            "_model_module": "@jupyter-widgets/controls",
            "_model_module_version": "1.5.0",
            "_model_name": "HTMLModel",
            "_view_count": null,
            "_view_module": "@jupyter-widgets/controls",
            "_view_module_version": "1.5.0",
            "_view_name": "HTMLView",
            "description": "",
            "description_tooltip": null,
            "layout": "IPY_MODEL_b78de4ec1af54c089e042e360ac8d11a",
            "placeholder": "​",
            "style": "IPY_MODEL_8318e2421cd14365981a223383f07125",
            "value": " 2.32k/2.32k [00:00&lt;00:00, 55.6kB/s]"
          }
        },
        "55a1e12ff73f43bbac7e7f776d69f9d3": {
          "model_module": "@jupyter-widgets/base",
          "model_name": "LayoutModel",
          "model_module_version": "1.2.0",
          "state": {
            "_model_module": "@jupyter-widgets/base",
            "_model_module_version": "1.2.0",
            "_model_name": "LayoutModel",
            "_view_count": null,
            "_view_module": "@jupyter-widgets/base",
            "_view_module_version": "1.2.0",
            "_view_name": "LayoutView",
            "align_content": null,
            "align_items": null,
            "align_self": null,
            "border": null,
            "bottom": null,
            "display": null,
            "flex": null,
            "flex_flow": null,
            "grid_area": null,
            "grid_auto_columns": null,
            "grid_auto_flow": null,
            "grid_auto_rows": null,
            "grid_column": null,
            "grid_gap": null,
            "grid_row": null,
            "grid_template_areas": null,
            "grid_template_columns": null,
            "grid_template_rows": null,
            "height": null,
            "justify_content": null,
            "justify_items": null,
            "left": null,
            "margin": null,
            "max_height": null,
            "max_width": null,
            "min_height": null,
            "min_width": null,
            "object_fit": null,
            "object_position": null,
            "order": null,
            "overflow": null,
            "overflow_x": null,
            "overflow_y": null,
            "padding": null,
            "right": null,
            "top": null,
            "visibility": null,
            "width": null
          }
        },
        "d4bffa3214ed4ed6ab887746d52e4f45": {
          "model_module": "@jupyter-widgets/base",
          "model_name": "LayoutModel",
          "model_module_version": "1.2.0",
          "state": {
            "_model_module": "@jupyter-widgets/base",
            "_model_module_version": "1.2.0",
            "_model_name": "LayoutModel",
            "_view_count": null,
            "_view_module": "@jupyter-widgets/base",
            "_view_module_version": "1.2.0",
            "_view_name": "LayoutView",
            "align_content": null,
            "align_items": null,
            "align_self": null,
            "border": null,
            "bottom": null,
            "display": null,
            "flex": null,
            "flex_flow": null,
            "grid_area": null,
            "grid_auto_columns": null,
            "grid_auto_flow": null,
            "grid_auto_rows": null,
            "grid_column": null,
            "grid_gap": null,
            "grid_row": null,
            "grid_template_areas": null,
            "grid_template_columns": null,
            "grid_template_rows": null,
            "height": null,
            "justify_content": null,
            "justify_items": null,
            "left": null,
            "margin": null,
            "max_height": null,
            "max_width": null,
            "min_height": null,
            "min_width": null,
            "object_fit": null,
            "object_position": null,
            "order": null,
            "overflow": null,
            "overflow_x": null,
            "overflow_y": null,
            "padding": null,
            "right": null,
            "top": null,
            "visibility": null,
            "width": null
          }
        },
        "09cddd2a48464970942d2064066443f3": {
          "model_module": "@jupyter-widgets/controls",
          "model_name": "DescriptionStyleModel",
          "model_module_version": "1.5.0",
          "state": {
            "_model_module": "@jupyter-widgets/controls",
            "_model_module_version": "1.5.0",
            "_model_name": "DescriptionStyleModel",
            "_view_count": null,
            "_view_module": "@jupyter-widgets/base",
            "_view_module_version": "1.2.0",
            "_view_name": "StyleView",
            "description_width": ""
          }
        },
        "5d19b90a987240119a74f5fad7d3181e": {
          "model_module": "@jupyter-widgets/base",
          "model_name": "LayoutModel",
          "model_module_version": "1.2.0",
          "state": {
            "_model_module": "@jupyter-widgets/base",
            "_model_module_version": "1.2.0",
            "_model_name": "LayoutModel",
            "_view_count": null,
            "_view_module": "@jupyter-widgets/base",
            "_view_module_version": "1.2.0",
            "_view_name": "LayoutView",
            "align_content": null,
            "align_items": null,
            "align_self": null,
            "border": null,
            "bottom": null,
            "display": null,
            "flex": null,
            "flex_flow": null,
            "grid_area": null,
            "grid_auto_columns": null,
            "grid_auto_flow": null,
            "grid_auto_rows": null,
            "grid_column": null,
            "grid_gap": null,
            "grid_row": null,
            "grid_template_areas": null,
            "grid_template_columns": null,
            "grid_template_rows": null,
            "height": null,
            "justify_content": null,
            "justify_items": null,
            "left": null,
            "margin": null,
            "max_height": null,
            "max_width": null,
            "min_height": null,
            "min_width": null,
            "object_fit": null,
            "object_position": null,
            "order": null,
            "overflow": null,
            "overflow_x": null,
            "overflow_y": null,
            "padding": null,
            "right": null,
            "top": null,
            "visibility": null,
            "width": null
          }
        },
        "1850dcee4c7a48f486f5383a84777df6": {
          "model_module": "@jupyter-widgets/controls",
          "model_name": "ProgressStyleModel",
          "model_module_version": "1.5.0",
          "state": {
            "_model_module": "@jupyter-widgets/controls",
            "_model_module_version": "1.5.0",
            "_model_name": "ProgressStyleModel",
            "_view_count": null,
            "_view_module": "@jupyter-widgets/base",
            "_view_module_version": "1.2.0",
            "_view_name": "StyleView",
            "bar_color": null,
            "description_width": ""
          }
        },
        "b78de4ec1af54c089e042e360ac8d11a": {
          "model_module": "@jupyter-widgets/base",
          "model_name": "LayoutModel",
          "model_module_version": "1.2.0",
          "state": {
            "_model_module": "@jupyter-widgets/base",
            "_model_module_version": "1.2.0",
            "_model_name": "LayoutModel",
            "_view_count": null,
            "_view_module": "@jupyter-widgets/base",
            "_view_module_version": "1.2.0",
            "_view_name": "LayoutView",
            "align_content": null,
            "align_items": null,
            "align_self": null,
            "border": null,
            "bottom": null,
            "display": null,
            "flex": null,
            "flex_flow": null,
            "grid_area": null,
            "grid_auto_columns": null,
            "grid_auto_flow": null,
            "grid_auto_rows": null,
            "grid_column": null,
            "grid_gap": null,
            "grid_row": null,
            "grid_template_areas": null,
            "grid_template_columns": null,
            "grid_template_rows": null,
            "height": null,
            "justify_content": null,
            "justify_items": null,
            "left": null,
            "margin": null,
            "max_height": null,
            "max_width": null,
            "min_height": null,
            "min_width": null,
            "object_fit": null,
            "object_position": null,
            "order": null,
            "overflow": null,
            "overflow_x": null,
            "overflow_y": null,
            "padding": null,
            "right": null,
            "top": null,
            "visibility": null,
            "width": null
          }
        },
        "8318e2421cd14365981a223383f07125": {
          "model_module": "@jupyter-widgets/controls",
          "model_name": "DescriptionStyleModel",
          "model_module_version": "1.5.0",
          "state": {
            "_model_module": "@jupyter-widgets/controls",
            "_model_module_version": "1.5.0",
            "_model_name": "DescriptionStyleModel",
            "_view_count": null,
            "_view_module": "@jupyter-widgets/base",
            "_view_module_version": "1.2.0",
            "_view_name": "StyleView",
            "description_width": ""
          }
        },
        "8cc7658acb02466c9d6a84c8c35cac3b": {
          "model_module": "@jupyter-widgets/controls",
          "model_name": "HBoxModel",
          "model_module_version": "1.5.0",
          "state": {
            "_dom_classes": [],
            "_model_module": "@jupyter-widgets/controls",
            "_model_module_version": "1.5.0",
            "_model_name": "HBoxModel",
            "_view_count": null,
            "_view_module": "@jupyter-widgets/controls",
            "_view_module_version": "1.5.0",
            "_view_name": "HBoxView",
            "box_style": "",
            "children": [
              "IPY_MODEL_1fc31e2b19104074a8014884e2dd5cf9",
              "IPY_MODEL_ea0a9607238840c89636171ea778a4fd",
              "IPY_MODEL_fe5a5fb3b50541febc5b1be925a59a0d"
            ],
            "layout": "IPY_MODEL_b1bda10a8d7f41efbf4c7e7c50952956"
          }
        },
        "1fc31e2b19104074a8014884e2dd5cf9": {
          "model_module": "@jupyter-widgets/controls",
          "model_name": "HTMLModel",
          "model_module_version": "1.5.0",
          "state": {
            "_dom_classes": [],
            "_model_module": "@jupyter-widgets/controls",
            "_model_module_version": "1.5.0",
            "_model_name": "HTMLModel",
            "_view_count": null,
            "_view_module": "@jupyter-widgets/controls",
            "_view_module_version": "1.5.0",
            "_view_name": "HTMLView",
            "description": "",
            "description_tooltip": null,
            "layout": "IPY_MODEL_e6c03e061ae24e2f9d970d017377a459",
            "placeholder": "​",
            "style": "IPY_MODEL_82585f9d66d142a48dc4918779687e47",
            "value": "spiece.model: 100%"
          }
        },
        "ea0a9607238840c89636171ea778a4fd": {
          "model_module": "@jupyter-widgets/controls",
          "model_name": "FloatProgressModel",
          "model_module_version": "1.5.0",
          "state": {
            "_dom_classes": [],
            "_model_module": "@jupyter-widgets/controls",
            "_model_module_version": "1.5.0",
            "_model_name": "FloatProgressModel",
            "_view_count": null,
            "_view_module": "@jupyter-widgets/controls",
            "_view_module_version": "1.5.0",
            "_view_name": "ProgressView",
            "bar_style": "success",
            "description": "",
            "description_tooltip": null,
            "layout": "IPY_MODEL_2e8cbbad549b46448662fb535e41752d",
            "max": 791656,
            "min": 0,
            "orientation": "horizontal",
            "style": "IPY_MODEL_352535a2297b4be6a1e643902265e550",
            "value": 791656
          }
        },
        "fe5a5fb3b50541febc5b1be925a59a0d": {
          "model_module": "@jupyter-widgets/controls",
          "model_name": "HTMLModel",
          "model_module_version": "1.5.0",
          "state": {
            "_dom_classes": [],
            "_model_module": "@jupyter-widgets/controls",
            "_model_module_version": "1.5.0",
            "_model_name": "HTMLModel",
            "_view_count": null,
            "_view_module": "@jupyter-widgets/controls",
            "_view_module_version": "1.5.0",
            "_view_name": "HTMLView",
            "description": "",
            "description_tooltip": null,
            "layout": "IPY_MODEL_4eebfa80454940e386395dc8d2e118fe",
            "placeholder": "​",
            "style": "IPY_MODEL_bc31215e7d4d42b5a8e6560277ac150f",
            "value": " 792k/792k [00:00&lt;00:00, 15.8MB/s]"
          }
        },
        "b1bda10a8d7f41efbf4c7e7c50952956": {
          "model_module": "@jupyter-widgets/base",
          "model_name": "LayoutModel",
          "model_module_version": "1.2.0",
          "state": {
            "_model_module": "@jupyter-widgets/base",
            "_model_module_version": "1.2.0",
            "_model_name": "LayoutModel",
            "_view_count": null,
            "_view_module": "@jupyter-widgets/base",
            "_view_module_version": "1.2.0",
            "_view_name": "LayoutView",
            "align_content": null,
            "align_items": null,
            "align_self": null,
            "border": null,
            "bottom": null,
            "display": null,
            "flex": null,
            "flex_flow": null,
            "grid_area": null,
            "grid_auto_columns": null,
            "grid_auto_flow": null,
            "grid_auto_rows": null,
            "grid_column": null,
            "grid_gap": null,
            "grid_row": null,
            "grid_template_areas": null,
            "grid_template_columns": null,
            "grid_template_rows": null,
            "height": null,
            "justify_content": null,
            "justify_items": null,
            "left": null,
            "margin": null,
            "max_height": null,
            "max_width": null,
            "min_height": null,
            "min_width": null,
            "object_fit": null,
            "object_position": null,
            "order": null,
            "overflow": null,
            "overflow_x": null,
            "overflow_y": null,
            "padding": null,
            "right": null,
            "top": null,
            "visibility": null,
            "width": null
          }
        },
        "e6c03e061ae24e2f9d970d017377a459": {
          "model_module": "@jupyter-widgets/base",
          "model_name": "LayoutModel",
          "model_module_version": "1.2.0",
          "state": {
            "_model_module": "@jupyter-widgets/base",
            "_model_module_version": "1.2.0",
            "_model_name": "LayoutModel",
            "_view_count": null,
            "_view_module": "@jupyter-widgets/base",
            "_view_module_version": "1.2.0",
            "_view_name": "LayoutView",
            "align_content": null,
            "align_items": null,
            "align_self": null,
            "border": null,
            "bottom": null,
            "display": null,
            "flex": null,
            "flex_flow": null,
            "grid_area": null,
            "grid_auto_columns": null,
            "grid_auto_flow": null,
            "grid_auto_rows": null,
            "grid_column": null,
            "grid_gap": null,
            "grid_row": null,
            "grid_template_areas": null,
            "grid_template_columns": null,
            "grid_template_rows": null,
            "height": null,
            "justify_content": null,
            "justify_items": null,
            "left": null,
            "margin": null,
            "max_height": null,
            "max_width": null,
            "min_height": null,
            "min_width": null,
            "object_fit": null,
            "object_position": null,
            "order": null,
            "overflow": null,
            "overflow_x": null,
            "overflow_y": null,
            "padding": null,
            "right": null,
            "top": null,
            "visibility": null,
            "width": null
          }
        },
        "82585f9d66d142a48dc4918779687e47": {
          "model_module": "@jupyter-widgets/controls",
          "model_name": "DescriptionStyleModel",
          "model_module_version": "1.5.0",
          "state": {
            "_model_module": "@jupyter-widgets/controls",
            "_model_module_version": "1.5.0",
            "_model_name": "DescriptionStyleModel",
            "_view_count": null,
            "_view_module": "@jupyter-widgets/base",
            "_view_module_version": "1.2.0",
            "_view_name": "StyleView",
            "description_width": ""
          }
        },
        "2e8cbbad549b46448662fb535e41752d": {
          "model_module": "@jupyter-widgets/base",
          "model_name": "LayoutModel",
          "model_module_version": "1.2.0",
          "state": {
            "_model_module": "@jupyter-widgets/base",
            "_model_module_version": "1.2.0",
            "_model_name": "LayoutModel",
            "_view_count": null,
            "_view_module": "@jupyter-widgets/base",
            "_view_module_version": "1.2.0",
            "_view_name": "LayoutView",
            "align_content": null,
            "align_items": null,
            "align_self": null,
            "border": null,
            "bottom": null,
            "display": null,
            "flex": null,
            "flex_flow": null,
            "grid_area": null,
            "grid_auto_columns": null,
            "grid_auto_flow": null,
            "grid_auto_rows": null,
            "grid_column": null,
            "grid_gap": null,
            "grid_row": null,
            "grid_template_areas": null,
            "grid_template_columns": null,
            "grid_template_rows": null,
            "height": null,
            "justify_content": null,
            "justify_items": null,
            "left": null,
            "margin": null,
            "max_height": null,
            "max_width": null,
            "min_height": null,
            "min_width": null,
            "object_fit": null,
            "object_position": null,
            "order": null,
            "overflow": null,
            "overflow_x": null,
            "overflow_y": null,
            "padding": null,
            "right": null,
            "top": null,
            "visibility": null,
            "width": null
          }
        },
        "352535a2297b4be6a1e643902265e550": {
          "model_module": "@jupyter-widgets/controls",
          "model_name": "ProgressStyleModel",
          "model_module_version": "1.5.0",
          "state": {
            "_model_module": "@jupyter-widgets/controls",
            "_model_module_version": "1.5.0",
            "_model_name": "ProgressStyleModel",
            "_view_count": null,
            "_view_module": "@jupyter-widgets/base",
            "_view_module_version": "1.2.0",
            "_view_name": "StyleView",
            "bar_color": null,
            "description_width": ""
          }
        },
        "4eebfa80454940e386395dc8d2e118fe": {
          "model_module": "@jupyter-widgets/base",
          "model_name": "LayoutModel",
          "model_module_version": "1.2.0",
          "state": {
            "_model_module": "@jupyter-widgets/base",
            "_model_module_version": "1.2.0",
            "_model_name": "LayoutModel",
            "_view_count": null,
            "_view_module": "@jupyter-widgets/base",
            "_view_module_version": "1.2.0",
            "_view_name": "LayoutView",
            "align_content": null,
            "align_items": null,
            "align_self": null,
            "border": null,
            "bottom": null,
            "display": null,
            "flex": null,
            "flex_flow": null,
            "grid_area": null,
            "grid_auto_columns": null,
            "grid_auto_flow": null,
            "grid_auto_rows": null,
            "grid_column": null,
            "grid_gap": null,
            "grid_row": null,
            "grid_template_areas": null,
            "grid_template_columns": null,
            "grid_template_rows": null,
            "height": null,
            "justify_content": null,
            "justify_items": null,
            "left": null,
            "margin": null,
            "max_height": null,
            "max_width": null,
            "min_height": null,
            "min_width": null,
            "object_fit": null,
            "object_position": null,
            "order": null,
            "overflow": null,
            "overflow_x": null,
            "overflow_y": null,
            "padding": null,
            "right": null,
            "top": null,
            "visibility": null,
            "width": null
          }
        },
        "bc31215e7d4d42b5a8e6560277ac150f": {
          "model_module": "@jupyter-widgets/controls",
          "model_name": "DescriptionStyleModel",
          "model_module_version": "1.5.0",
          "state": {
            "_model_module": "@jupyter-widgets/controls",
            "_model_module_version": "1.5.0",
            "_model_name": "DescriptionStyleModel",
            "_view_count": null,
            "_view_module": "@jupyter-widgets/base",
            "_view_module_version": "1.2.0",
            "_view_name": "StyleView",
            "description_width": ""
          }
        },
        "518527aa984f4e9288b53663fd6a8a6e": {
          "model_module": "@jupyter-widgets/controls",
          "model_name": "HBoxModel",
          "model_module_version": "1.5.0",
          "state": {
            "_dom_classes": [],
            "_model_module": "@jupyter-widgets/controls",
            "_model_module_version": "1.5.0",
            "_model_name": "HBoxModel",
            "_view_count": null,
            "_view_module": "@jupyter-widgets/controls",
            "_view_module_version": "1.5.0",
            "_view_name": "HBoxView",
            "box_style": "",
            "children": [
              "IPY_MODEL_1373c8741fda4f8a9be60811a6e05fb8",
              "IPY_MODEL_474af3cda88c440d8653cbb4cdfdec6e",
              "IPY_MODEL_bf6f97807ddb483fbdc96ca6f8d04365"
            ],
            "layout": "IPY_MODEL_bb168fa81f7847269885369cff9865b2"
          }
        },
        "1373c8741fda4f8a9be60811a6e05fb8": {
          "model_module": "@jupyter-widgets/controls",
          "model_name": "HTMLModel",
          "model_module_version": "1.5.0",
          "state": {
            "_dom_classes": [],
            "_model_module": "@jupyter-widgets/controls",
            "_model_module_version": "1.5.0",
            "_model_name": "HTMLModel",
            "_view_count": null,
            "_view_module": "@jupyter-widgets/controls",
            "_view_module_version": "1.5.0",
            "_view_name": "HTMLView",
            "description": "",
            "description_tooltip": null,
            "layout": "IPY_MODEL_f7ef61774b25447088857f10afd22e5f",
            "placeholder": "​",
            "style": "IPY_MODEL_492f1694e79246308c868d4cf802fc84",
            "value": "tokenizer.json: 100%"
          }
        },
        "474af3cda88c440d8653cbb4cdfdec6e": {
          "model_module": "@jupyter-widgets/controls",
          "model_name": "FloatProgressModel",
          "model_module_version": "1.5.0",
          "state": {
            "_dom_classes": [],
            "_model_module": "@jupyter-widgets/controls",
            "_model_module_version": "1.5.0",
            "_model_name": "FloatProgressModel",
            "_view_count": null,
            "_view_module": "@jupyter-widgets/controls",
            "_view_module_version": "1.5.0",
            "_view_name": "ProgressView",
            "bar_style": "success",
            "description": "",
            "description_tooltip": null,
            "layout": "IPY_MODEL_111e16d3990949c7843e3f30a786f27c",
            "max": 1389353,
            "min": 0,
            "orientation": "horizontal",
            "style": "IPY_MODEL_b7997537aee84a32acdeec7e178e645e",
            "value": 1389353
          }
        },
        "bf6f97807ddb483fbdc96ca6f8d04365": {
          "model_module": "@jupyter-widgets/controls",
          "model_name": "HTMLModel",
          "model_module_version": "1.5.0",
          "state": {
            "_dom_classes": [],
            "_model_module": "@jupyter-widgets/controls",
            "_model_module_version": "1.5.0",
            "_model_name": "HTMLModel",
            "_view_count": null,
            "_view_module": "@jupyter-widgets/controls",
            "_view_module_version": "1.5.0",
            "_view_name": "HTMLView",
            "description": "",
            "description_tooltip": null,
            "layout": "IPY_MODEL_aad7ce23ae0a40c782257b9489fa1865",
            "placeholder": "​",
            "style": "IPY_MODEL_3bcb57619c81453fb84f4200374729d2",
            "value": " 1.39M/1.39M [00:00&lt;00:00, 2.80MB/s]"
          }
        },
        "bb168fa81f7847269885369cff9865b2": {
          "model_module": "@jupyter-widgets/base",
          "model_name": "LayoutModel",
          "model_module_version": "1.2.0",
          "state": {
            "_model_module": "@jupyter-widgets/base",
            "_model_module_version": "1.2.0",
            "_model_name": "LayoutModel",
            "_view_count": null,
            "_view_module": "@jupyter-widgets/base",
            "_view_module_version": "1.2.0",
            "_view_name": "LayoutView",
            "align_content": null,
            "align_items": null,
            "align_self": null,
            "border": null,
            "bottom": null,
            "display": null,
            "flex": null,
            "flex_flow": null,
            "grid_area": null,
            "grid_auto_columns": null,
            "grid_auto_flow": null,
            "grid_auto_rows": null,
            "grid_column": null,
            "grid_gap": null,
            "grid_row": null,
            "grid_template_areas": null,
            "grid_template_columns": null,
            "grid_template_rows": null,
            "height": null,
            "justify_content": null,
            "justify_items": null,
            "left": null,
            "margin": null,
            "max_height": null,
            "max_width": null,
            "min_height": null,
            "min_width": null,
            "object_fit": null,
            "object_position": null,
            "order": null,
            "overflow": null,
            "overflow_x": null,
            "overflow_y": null,
            "padding": null,
            "right": null,
            "top": null,
            "visibility": null,
            "width": null
          }
        },
        "f7ef61774b25447088857f10afd22e5f": {
          "model_module": "@jupyter-widgets/base",
          "model_name": "LayoutModel",
          "model_module_version": "1.2.0",
          "state": {
            "_model_module": "@jupyter-widgets/base",
            "_model_module_version": "1.2.0",
            "_model_name": "LayoutModel",
            "_view_count": null,
            "_view_module": "@jupyter-widgets/base",
            "_view_module_version": "1.2.0",
            "_view_name": "LayoutView",
            "align_content": null,
            "align_items": null,
            "align_self": null,
            "border": null,
            "bottom": null,
            "display": null,
            "flex": null,
            "flex_flow": null,
            "grid_area": null,
            "grid_auto_columns": null,
            "grid_auto_flow": null,
            "grid_auto_rows": null,
            "grid_column": null,
            "grid_gap": null,
            "grid_row": null,
            "grid_template_areas": null,
            "grid_template_columns": null,
            "grid_template_rows": null,
            "height": null,
            "justify_content": null,
            "justify_items": null,
            "left": null,
            "margin": null,
            "max_height": null,
            "max_width": null,
            "min_height": null,
            "min_width": null,
            "object_fit": null,
            "object_position": null,
            "order": null,
            "overflow": null,
            "overflow_x": null,
            "overflow_y": null,
            "padding": null,
            "right": null,
            "top": null,
            "visibility": null,
            "width": null
          }
        },
        "492f1694e79246308c868d4cf802fc84": {
          "model_module": "@jupyter-widgets/controls",
          "model_name": "DescriptionStyleModel",
          "model_module_version": "1.5.0",
          "state": {
            "_model_module": "@jupyter-widgets/controls",
            "_model_module_version": "1.5.0",
            "_model_name": "DescriptionStyleModel",
            "_view_count": null,
            "_view_module": "@jupyter-widgets/base",
            "_view_module_version": "1.2.0",
            "_view_name": "StyleView",
            "description_width": ""
          }
        },
        "111e16d3990949c7843e3f30a786f27c": {
          "model_module": "@jupyter-widgets/base",
          "model_name": "LayoutModel",
          "model_module_version": "1.2.0",
          "state": {
            "_model_module": "@jupyter-widgets/base",
            "_model_module_version": "1.2.0",
            "_model_name": "LayoutModel",
            "_view_count": null,
            "_view_module": "@jupyter-widgets/base",
            "_view_module_version": "1.2.0",
            "_view_name": "LayoutView",
            "align_content": null,
            "align_items": null,
            "align_self": null,
            "border": null,
            "bottom": null,
            "display": null,
            "flex": null,
            "flex_flow": null,
            "grid_area": null,
            "grid_auto_columns": null,
            "grid_auto_flow": null,
            "grid_auto_rows": null,
            "grid_column": null,
            "grid_gap": null,
            "grid_row": null,
            "grid_template_areas": null,
            "grid_template_columns": null,
            "grid_template_rows": null,
            "height": null,
            "justify_content": null,
            "justify_items": null,
            "left": null,
            "margin": null,
            "max_height": null,
            "max_width": null,
            "min_height": null,
            "min_width": null,
            "object_fit": null,
            "object_position": null,
            "order": null,
            "overflow": null,
            "overflow_x": null,
            "overflow_y": null,
            "padding": null,
            "right": null,
            "top": null,
            "visibility": null,
            "width": null
          }
        },
        "b7997537aee84a32acdeec7e178e645e": {
          "model_module": "@jupyter-widgets/controls",
          "model_name": "ProgressStyleModel",
          "model_module_version": "1.5.0",
          "state": {
            "_model_module": "@jupyter-widgets/controls",
            "_model_module_version": "1.5.0",
            "_model_name": "ProgressStyleModel",
            "_view_count": null,
            "_view_module": "@jupyter-widgets/base",
            "_view_module_version": "1.2.0",
            "_view_name": "StyleView",
            "bar_color": null,
            "description_width": ""
          }
        },
        "aad7ce23ae0a40c782257b9489fa1865": {
          "model_module": "@jupyter-widgets/base",
          "model_name": "LayoutModel",
          "model_module_version": "1.2.0",
          "state": {
            "_model_module": "@jupyter-widgets/base",
            "_model_module_version": "1.2.0",
            "_model_name": "LayoutModel",
            "_view_count": null,
            "_view_module": "@jupyter-widgets/base",
            "_view_module_version": "1.2.0",
            "_view_name": "LayoutView",
            "align_content": null,
            "align_items": null,
            "align_self": null,
            "border": null,
            "bottom": null,
            "display": null,
            "flex": null,
            "flex_flow": null,
            "grid_area": null,
            "grid_auto_columns": null,
            "grid_auto_flow": null,
            "grid_auto_rows": null,
            "grid_column": null,
            "grid_gap": null,
            "grid_row": null,
            "grid_template_areas": null,
            "grid_template_columns": null,
            "grid_template_rows": null,
            "height": null,
            "justify_content": null,
            "justify_items": null,
            "left": null,
            "margin": null,
            "max_height": null,
            "max_width": null,
            "min_height": null,
            "min_width": null,
            "object_fit": null,
            "object_position": null,
            "order": null,
            "overflow": null,
            "overflow_x": null,
            "overflow_y": null,
            "padding": null,
            "right": null,
            "top": null,
            "visibility": null,
            "width": null
          }
        },
        "3bcb57619c81453fb84f4200374729d2": {
          "model_module": "@jupyter-widgets/controls",
          "model_name": "DescriptionStyleModel",
          "model_module_version": "1.5.0",
          "state": {
            "_model_module": "@jupyter-widgets/controls",
            "_model_module_version": "1.5.0",
            "_model_name": "DescriptionStyleModel",
            "_view_count": null,
            "_view_module": "@jupyter-widgets/base",
            "_view_module_version": "1.2.0",
            "_view_name": "StyleView",
            "description_width": ""
          }
        }
      }
    }
  },
  "cells": [
    {
      "cell_type": "markdown",
      "source": [
        "# Introduction aux Transformers et LLMs"
      ],
      "metadata": {
        "id": "UebMRLWwCgMf"
      }
    },
    {
      "cell_type": "markdown",
      "source": [
        "Les LLMs (Large Language Models) sont des modèles de Deep Learning entraînés sur des quantités massives de texte. Ils sont capables de générer du texte cohérent, de répondre à des questions, de résumer ou de traduire, entre autres. Le secret de leur efficacité réside dans l'utilisation de la structure Transformer, combinée à des embeddings et à des techniques de génération avancées.\n",
        "\n",
        "Ce notebook illustre les étapes fondamentales pour comprendre et utiliser un LLM en pratique :\n",
        "\n",
        "1. Tokenisation\n",
        "2. Embeddings\n",
        "3. Transformers\n",
        "4. Utilisation d'un LLM pré-entraîné (différentes tâches)\n",
        "5. Paramètres de génération (température, longueur de contexte, etc.)"
      ],
      "metadata": {
        "id": "9_co8cwUCod9"
      }
    },
    {
      "cell_type": "code",
      "source": [
        "!pip install transformers tensorflow -q"
      ],
      "metadata": {
        "id": "nmtMT7V7CiQG"
      },
      "execution_count": null,
      "outputs": []
    },
    {
      "cell_type": "code",
      "execution_count": null,
      "metadata": {
        "colab": {
          "base_uri": "https://localhost:8080/"
        },
        "id": "8ULU3pF41QSJ",
        "outputId": "f2a531c8-c6fd-4641-d70d-1a073196d434"
      },
      "outputs": [
        {
          "output_type": "stream",
          "name": "stdout",
          "text": [
            "TensorFlow version: 2.17.1\n"
          ]
        }
      ],
      "source": [
        "import tensorflow as tf\n",
        "from transformers import (\n",
        "    AutoTokenizer,\n",
        "    TFAutoModelForCausalLM,\n",
        "    pipeline\n",
        ")\n",
        "\n",
        "print(\"TensorFlow version:\", tf.__version__)"
      ]
    },
    {
      "cell_type": "markdown",
      "source": [
        "## 1. Qu'est-ce qu'un LLM ?\n"
      ],
      "metadata": {
        "id": "E7mePHjuDKnf"
      }
    },
    {
      "cell_type": "markdown",
      "source": [
        "Un Large Language Model est un réseau de neurones géant, généralement de type Transformer, pré-entraîné sur des corpus de taille colossale (des milliards de tokens). En termes simples, il apprend à prédire le token (mot, sous-mot, symbole) suivant en se basant sur le contexte précédent.\n",
        "\n",
        "Grâce à ce principe, il est possible de l’utiliser pour :\n",
        "\n",
        "1. Génération de texte : production de texte cohérent à partir d’un prompt.\n",
        "2. Traduction : transformer un texte d’une langue à une autre.\n",
        "3. Résumé : condenser de longs documents en quelques lignes.\n",
        "4. Q&A (Question Answering) : répondre à des questions précises.\n",
        "5. Classification : affecter une étiquette à un texte (sentiment, sujet, etc.).\n",
        "6. Analyse de similarité sémantique : comparer des phrases ou des mots pour mesurer leur proximité.\n"
      ],
      "metadata": {
        "id": "9Z5HxHUWDMPp"
      }
    },
    {
      "cell_type": "markdown",
      "source": [
        "## 2. La tokenisation\n"
      ],
      "metadata": {
        "id": "PKgLae0PDim_"
      }
    },
    {
      "cell_type": "markdown",
      "source": [
        "La tokenisation consiste à convertir un texte brut en une liste de tokens (sous-unités textuelles). Les modèles modernes utilisent souvent des algorithmes comme Byte Pair Encoding (BPE) ou WordPiece, qui découpent les mots rares en morceaux pour mieux gérer le vocabulaire.\n",
        "\n",
        "**Pourquoi est-ce crucial ?**\n",
        "\n",
        "- Adapter la forme textuelle brute en format compréhensible pour le modèle.\n",
        "- Gérer les mots inconnus ou très rares en les décomposant.\n",
        "- Réduire la taille de vocabulaire tout en conservant une bonne couverture linguistique."
      ],
      "metadata": {
        "id": "w-UdhHLdDkyg"
      }
    },
    {
      "cell_type": "code",
      "source": [
        "from transformers import AutoTokenizer\n",
        "\n",
        "# Chargement d'un tokenizer GPT-2\n",
        "tokenizer = AutoTokenizer.from_pretrained(\"gpt2\")\n",
        "\n",
        "# Définir un token de padding (ici on utilise le token de fin de séquence comme padding)\n",
        "tokenizer.pad_token = tokenizer.eos_token\n",
        "\n",
        "# Exemple de phrases en anglais\n",
        "sentences = [\n",
        "    \"Hello, how are you?\",\n",
        "    \"I love pizza!\",\n",
        "    \"The cat sat on the mat.\",\n",
        "    \"Transformers are awesome.\"\n",
        "]\n",
        "\n",
        "# Encodage (tokenisation)\n",
        "encoded_inputs = tokenizer(sentences, padding=True, truncation=True, return_tensors='tf')"
      ],
      "metadata": {
        "id": "-4fMsGb5D0Mq"
      },
      "execution_count": null,
      "outputs": []
    },
    {
      "cell_type": "code",
      "source": [
        "print(\"Tokens encodés (IDs) :\")\n",
        "print(encoded_inputs['input_ids'])\n",
        "print(\"\\nShape : \", encoded_inputs['input_ids'].shape)\n",
        "\n",
        "# Décodage inverse d'un exemple\n",
        "decoded_sentence = tokenizer.decode(encoded_inputs['input_ids'][0])\n",
        "print(\"\\nExemple de décodage inverse :\")\n",
        "print(decoded_sentence)"
      ],
      "metadata": {
        "colab": {
          "base_uri": "https://localhost:8080/"
        },
        "id": "bwPI_jI3DFUm",
        "outputId": "b54a57fa-3210-416e-abe0-3d0a143479c2"
      },
      "execution_count": null,
      "outputs": [
        {
          "output_type": "stream",
          "name": "stdout",
          "text": [
            "Tokens encodés (IDs) :\n",
            "tf.Tensor(\n",
            "[[15496    11   703   389   345    30 50256]\n",
            " [   40  1842 14256     0 50256 50256 50256]\n",
            " [  464  3797  3332   319   262  2603    13]\n",
            " [41762   364   389  7427    13 50256 50256]], shape=(4, 7), dtype=int32)\n",
            "\n",
            "Shape :  (4, 7)\n",
            "\n",
            "Exemple de décodage inverse :\n",
            "Hello, how are you?<|endoftext|>\n"
          ]
        }
      ]
    },
    {
      "cell_type": "markdown",
      "source": [
        "Ici, on importe le tokenizer GPT-2 et on lui passe une liste de phrases en anglais. Le tokenizer convertit chacune de ces phrases en une séquence d’IDs (des entiers qui représentent les tokens).\n",
        "\n",
        "- return_tensors='tf' crée des tenseurs directement utilisables par TensorFlow.\n",
        "- padding=True et truncation=True gèrent la longueur des séquences : elles sont remplies ou coupées pour correspondre à la taille maximale requise.\n",
        "La dernière ligne effectue un décodage inverse pour montrer comment les IDs sont reconvertis en texte."
      ],
      "metadata": {
        "id": "I9ghbXapE1XX"
      }
    },
    {
      "cell_type": "markdown",
      "source": [
        "## 3. Les embeddings\n"
      ],
      "metadata": {
        "id": "4_-voL3yFVWD"
      }
    },
    {
      "cell_type": "markdown",
      "source": [
        "Les embeddings sont des vecteurs denses qui représentent la signification ou la sémantique des tokens. Deux tokens ayant un sens proche auront des vecteurs similaires dans cet espace vectoriel.\n",
        "\n",
        "**Pourquoi est-ce important ?**\n",
        "\n",
        "Permet la généralisation : un ID numérique seul est moins riche qu’un vecteur qui encode des similarités sémantiques.\n",
        "Agit comme point de départ pour les couches suivantes du modèle (notamment le Transformer)."
      ],
      "metadata": {
        "id": "yU9frjgnFY9f"
      }
    },
    {
      "cell_type": "code",
      "source": [
        "# Chargement du modèle GPT-2 (TensorFlow)\n",
        "gpt2_model = TFAutoModelForCausalLM.from_pretrained(\"gpt2\", from_pt=True)\n",
        "\n",
        "# On prépare les données (déjà tokenisées plus haut)\n",
        "input_ids = encoded_inputs['input_ids']\n",
        "attention_mask = encoded_inputs['attention_mask']\n",
        "\n",
        "# On effectue une passe avant en activant la récupération des états cachés\n",
        "outputs = gpt2_model(\n",
        "    input_ids,\n",
        "    attention_mask=attention_mask,\n",
        "    output_hidden_states=True\n",
        ")\n",
        "\n",
        "# hidden_states est un tuple contenant l'embedding initial à l'indice [0]\n",
        "all_hidden_states = outputs.hidden_states\n",
        "embeddings_layer = all_hidden_states[0]\n",
        "\n",
        "print(\"Shape du tenseur d'embeddings (batch, seq_len, dim) :\")\n",
        "print(embeddings_layer.shape)"
      ],
      "metadata": {
        "colab": {
          "base_uri": "https://localhost:8080/",
          "height": 176,
          "referenced_widgets": [
            "abeb69432dc447409668b8add4841d97",
            "409baa6664564adbb44b9ac9bdac25c2",
            "a765a37d1f374b43ab73b302e7dceb9b",
            "0ea507478a2b48dc9de45a706909dd9d",
            "0bcbe868b01f4d48ba302722173a9a6c",
            "445dd8feb21b4c648e8b5a60d1204421",
            "068ca818903046eebdb040dd4b763ea1",
            "5a7ccdbed4704e748d824618a34689a0",
            "b42ec24bda25418f9bccf18c08e78d03",
            "5eaf7ebc243d4471a8c8be6fd8c5f780",
            "d2968a30bf694a8e8665cedc10856368"
          ]
        },
        "id": "YcDCRoSAESiS",
        "outputId": "9a3e39ce-dd4d-4dac-cebb-b2dd152e63fc"
      },
      "execution_count": null,
      "outputs": [
        {
          "output_type": "display_data",
          "data": {
            "text/plain": [
              "pytorch_model.bin:   0%|          | 0.00/548M [00:00<?, ?B/s]"
            ],
            "application/vnd.jupyter.widget-view+json": {
              "version_major": 2,
              "version_minor": 0,
              "model_id": "abeb69432dc447409668b8add4841d97"
            }
          },
          "metadata": {}
        },
        {
          "output_type": "stream",
          "name": "stderr",
          "text": [
            "All PyTorch model weights were used when initializing TFGPT2LMHeadModel.\n",
            "\n",
            "All the weights of TFGPT2LMHeadModel were initialized from the PyTorch model.\n",
            "If your task is similar to the task the model of the checkpoint was trained on, you can already use TFGPT2LMHeadModel for predictions without further training.\n"
          ]
        },
        {
          "output_type": "stream",
          "name": "stdout",
          "text": [
            "Shape du tenseur d'embeddings (batch, seq_len, dim) :\n",
            "(4, 7, 768)\n"
          ]
        }
      ]
    },
    {
      "cell_type": "markdown",
      "source": [
        "Cette cellule charge le modèle GPT-2. On lui fournit les input_ids et le attention_mask (qui indique quels tokens sont réels vs. pad). On demande au modèle de retourner les hidden_states. La première couche (index 0) contient les embeddings initiaux des tokens. L’affichage montre les dimensions : (taille_batch, longueur_sequence, dimension_embeddings).\n"
      ],
      "metadata": {
        "id": "bvIRQ2hvF341"
      }
    },
    {
      "cell_type": "code",
      "source": [
        "# Exemple de comparaison d'embeddings de deux mots dans des phrases similaires\n",
        "sent1 = tokenizer(\"I love pizza\", return_tensors=\"tf\")\n",
        "sent2 = tokenizer(\"I love pasta\", return_tensors=\"tf\")\n",
        "\n",
        "out1 = gpt2_model(**sent1, output_hidden_states=True).hidden_states[0]\n",
        "out2 = gpt2_model(**sent2, output_hidden_states=True).hidden_states[0]\n",
        "\n",
        "embed_pizza = out1[0, -1, :]  # embedding du dernier token \"pizza\"\n",
        "embed_pasta = out2[0, -1, :]  # embedding du dernier token \"pasta\"\n",
        "\n",
        "# Calcul de la similarité cosinus\n",
        "cosine_sim = tf.keras.losses.cosine_similarity(embed_pizza, embed_pasta, axis=0)\n",
        "print(\"Similitude cosinus (pizza / pasta) :\", 1 - cosine_sim.numpy())"
      ],
      "metadata": {
        "colab": {
          "base_uri": "https://localhost:8080/"
        },
        "id": "RYNlIBEIFne8",
        "outputId": "2dc1610e-5709-4fba-fa29-5f8cc1c99b23"
      },
      "execution_count": null,
      "outputs": [
        {
          "output_type": "stream",
          "name": "stdout",
          "text": [
            "Similitude cosinus (pizza / pasta) : 1.8553624749183655\n"
          ]
        }
      ]
    },
    {
      "cell_type": "markdown",
      "source": [
        "Ici, on compare la similarité cosinus entre les embeddings de “pizza” et “pasta”. Dans l’espace des embeddings, deux termes liés (ici, deux aliments) devraient avoir une similarité plus élevée qu’avec des mots sans rapport.\n"
      ],
      "metadata": {
        "id": "uLMxc5P-GScP"
      }
    },
    {
      "cell_type": "markdown",
      "source": [
        "## 4. Les Transformers\n"
      ],
      "metadata": {
        "id": "bd6Uis61Gk6B"
      }
    },
    {
      "cell_type": "markdown",
      "source": [
        "Un Transformer se compose principalement de :\n",
        "\n",
        "- Mécanisme d’Attention (Self-Attention ou Multi-Head Self-Attention)\n",
        "- Couches Feed-Forward\n",
        "- Skip-connections (Add & Norm)\n",
        "- Normalisation de couche\n",
        "\n",
        "### 4.1 Le mécanisme d’attention\n",
        "\n",
        "- Chaque token génère trois vecteurs : Query (Q), Key (K), Value (V).\n",
        "- On calcule un score de similarité entre Q et tous les K du contexte (autres tokens).\n",
        "- On combine les valeurs V pondérées par ces scores pour obtenir un vecteur d’attention.\n",
        "- En Multi-Head, on répète ce processus en parallèle pour capturer des relations variées.\n",
        "\n",
        "### 4.2 Les couches Feed-Forward\n",
        "\n",
        "- Chaque token passe ensuite par un réseau fully-connected (MLP) qui affine l’information extraite.\n",
        "- Les skip-connections (résidus) aident à conserver le signal et à éviter le problème du gradient qui disparaît.\n",
        "- Les couches de normalisation maintiennent la stabilité de l'entraînement.\n",
        "\n",
        "### 4.3 Avantages par rapport aux RNN\n",
        "\n",
        "- Parallélisation : toutes les positions d’une séquence sont traitées en même temps, accélérant l’apprentissage.\n",
        "- Long contexte : l’attention permet d’exploiter des relations distantes entre tokens (contrairement à un LSTM qui a du mal avec les dépendances trop longues).\n",
        "- Performance : l'architecture est efficace pour s’entraîner sur de grands volumes de données.\n",
        "\n",
        "### 4.4 Exemples d'applications avec pipelines\n",
        "\n",
        "Les pipelines de la bibliothèque transformers facilitent l’utilisation de différents modèles pour diverses tâches : traduction, résumé, génération de texte, Q&A, etc."
      ],
      "metadata": {
        "id": "Ge91L3jYGqsL"
      }
    },
    {
      "cell_type": "code",
      "source": [
        "# Exemple 1: Génération de texte (GPT-2)\n",
        "text_generator = pipeline(\n",
        "    \"text-generation\",\n",
        "    model=\"gpt2\",\n",
        "    tokenizer=\"gpt2\",\n",
        "    framework=\"tf\"\n",
        ")"
      ],
      "metadata": {
        "id": "mrUXogPOGONj"
      },
      "execution_count": null,
      "outputs": []
    },
    {
      "cell_type": "code",
      "source": [
        "prompt = \"Artificial intelligence will one day\"\n",
        "generated_texts = text_generator(prompt, max_length=30, num_return_sequences=1)\n",
        "print(\"Génération de texte (GPT-2) :\")\n",
        "print(generated_texts[0]['generated_text'])"
      ],
      "metadata": {
        "colab": {
          "base_uri": "https://localhost:8080/"
        },
        "id": "1dJ-n0MzHryA",
        "outputId": "f8cf9f53-d256-4023-aa62-f6287d806b42"
      },
      "execution_count": null,
      "outputs": [
        {
          "output_type": "stream",
          "name": "stderr",
          "text": [
            "Setting `pad_token_id` to `eos_token_id`:50256 for open-end generation.\n"
          ]
        },
        {
          "output_type": "stream",
          "name": "stdout",
          "text": [
            "Génération de texte (GPT-2) :\n",
            "Artificial intelligence will one day become a significant force in the health and social lives of all living things. It's also one of humanity's major threats\n"
          ]
        }
      ]
    },
    {
      "cell_type": "markdown",
      "source": [
        "Cette cellule utilise le pipeline text-generation avec le modèle GPT-2. On fournit un prompt en anglais, puis on laisse le modèle générer la suite. max_length=30 limite la génération à 30 tokens supplémentaires."
      ],
      "metadata": {
        "id": "I1O_3U7yHyvi"
      }
    },
    {
      "cell_type": "code",
      "source": [
        "# Exemple 2: Résumé (T5)\n",
        "summarizer = pipeline(\n",
        "    \"summarization\",\n",
        "    model=\"t5-small\",\n",
        "    tokenizer=\"t5-small\",\n",
        "    framework=\"tf\"\n",
        ")"
      ],
      "metadata": {
        "colab": {
          "base_uri": "https://localhost:8080/",
          "height": 286,
          "referenced_widgets": [
            "1ecf58080dbd4d67823c34bb72055491",
            "13adf1be02de45ae97349c491aec966f",
            "4b7b26e3abcf4984a8779096183d2842",
            "f37face7b59e4a978eafc5324fa37239",
            "30f5a5e2f37b46f8a9f50a897a944eb4",
            "2a39bd0b50244731b80e1606b57d5e55",
            "f3ee4a19597f40e4b95b93b2c369f4c3",
            "9a4ce711b0404e1987a913d16ecadbbe",
            "67b689f8afca4b02bc6f036641f490c6",
            "5395107de71d427685b74b77b4f745ae",
            "45862d75e5484f4d9f7884aff7b0d1aa",
            "42683866f1e74c489afc47124f0e8756",
            "26ce3a4a390c43fd981d0337698e7f65",
            "fefe1bc6c6784b5cb16c4a5dd5e81b50",
            "8dbded8d5692489a8823f0d4dca9ea3d",
            "7e56dc3bfbf84cad89d2c4c73bf54ad2",
            "e5958545632240a7ad85fdcc0c4f2c90",
            "9d59050d0b0e4c8a9bc95d4edb6af51a",
            "85ff014321bb4035b58c856ec3e5cb47",
            "7879a93017794f5c866ea58c654de2b6",
            "3545ea71e35f413292db5adb9146c31c",
            "d8cc8e7341fa47a2be4bb5fbfc25f442",
            "a093e2a03c1c4929a3273d1c7e383936",
            "1db85088a4e7482cbfc92375e8426e96",
            "f52f82c5021a4ca4a0c14db9318ca55e",
            "0c10bb186f3a42b68b911a71b4e6105a",
            "55a1e12ff73f43bbac7e7f776d69f9d3",
            "d4bffa3214ed4ed6ab887746d52e4f45",
            "09cddd2a48464970942d2064066443f3",
            "5d19b90a987240119a74f5fad7d3181e",
            "1850dcee4c7a48f486f5383a84777df6",
            "b78de4ec1af54c089e042e360ac8d11a",
            "8318e2421cd14365981a223383f07125",
            "8cc7658acb02466c9d6a84c8c35cac3b",
            "1fc31e2b19104074a8014884e2dd5cf9",
            "ea0a9607238840c89636171ea778a4fd",
            "fe5a5fb3b50541febc5b1be925a59a0d",
            "b1bda10a8d7f41efbf4c7e7c50952956",
            "e6c03e061ae24e2f9d970d017377a459",
            "82585f9d66d142a48dc4918779687e47",
            "2e8cbbad549b46448662fb535e41752d",
            "352535a2297b4be6a1e643902265e550",
            "4eebfa80454940e386395dc8d2e118fe",
            "bc31215e7d4d42b5a8e6560277ac150f",
            "518527aa984f4e9288b53663fd6a8a6e",
            "1373c8741fda4f8a9be60811a6e05fb8",
            "474af3cda88c440d8653cbb4cdfdec6e",
            "bf6f97807ddb483fbdc96ca6f8d04365",
            "bb168fa81f7847269885369cff9865b2",
            "f7ef61774b25447088857f10afd22e5f",
            "492f1694e79246308c868d4cf802fc84",
            "111e16d3990949c7843e3f30a786f27c",
            "b7997537aee84a32acdeec7e178e645e",
            "aad7ce23ae0a40c782257b9489fa1865",
            "3bcb57619c81453fb84f4200374729d2"
          ]
        },
        "id": "7obRomCxHkXT",
        "outputId": "6fb397d6-0ff4-46f3-eac2-3fc136d4497e"
      },
      "execution_count": null,
      "outputs": [
        {
          "output_type": "display_data",
          "data": {
            "text/plain": [
              "config.json:   0%|          | 0.00/1.21k [00:00<?, ?B/s]"
            ],
            "application/vnd.jupyter.widget-view+json": {
              "version_major": 2,
              "version_minor": 0,
              "model_id": "1ecf58080dbd4d67823c34bb72055491"
            }
          },
          "metadata": {}
        },
        {
          "output_type": "display_data",
          "data": {
            "text/plain": [
              "model.safetensors:   0%|          | 0.00/242M [00:00<?, ?B/s]"
            ],
            "application/vnd.jupyter.widget-view+json": {
              "version_major": 2,
              "version_minor": 0,
              "model_id": "42683866f1e74c489afc47124f0e8756"
            }
          },
          "metadata": {}
        },
        {
          "output_type": "stream",
          "name": "stderr",
          "text": [
            "All PyTorch model weights were used when initializing TFT5ForConditionalGeneration.\n",
            "\n",
            "All the weights of TFT5ForConditionalGeneration were initialized from the PyTorch model.\n",
            "If your task is similar to the task the model of the checkpoint was trained on, you can already use TFT5ForConditionalGeneration for predictions without further training.\n"
          ]
        },
        {
          "output_type": "display_data",
          "data": {
            "text/plain": [
              "tokenizer_config.json:   0%|          | 0.00/2.32k [00:00<?, ?B/s]"
            ],
            "application/vnd.jupyter.widget-view+json": {
              "version_major": 2,
              "version_minor": 0,
              "model_id": "a093e2a03c1c4929a3273d1c7e383936"
            }
          },
          "metadata": {}
        },
        {
          "output_type": "display_data",
          "data": {
            "text/plain": [
              "spiece.model:   0%|          | 0.00/792k [00:00<?, ?B/s]"
            ],
            "application/vnd.jupyter.widget-view+json": {
              "version_major": 2,
              "version_minor": 0,
              "model_id": "8cc7658acb02466c9d6a84c8c35cac3b"
            }
          },
          "metadata": {}
        },
        {
          "output_type": "display_data",
          "data": {
            "text/plain": [
              "tokenizer.json:   0%|          | 0.00/1.39M [00:00<?, ?B/s]"
            ],
            "application/vnd.jupyter.widget-view+json": {
              "version_major": 2,
              "version_minor": 0,
              "model_id": "518527aa984f4e9288b53663fd6a8a6e"
            }
          },
          "metadata": {}
        },
        {
          "output_type": "stream",
          "name": "stderr",
          "text": [
            "Device set to use 0\n"
          ]
        }
      ]
    },
    {
      "cell_type": "code",
      "source": [
        "long_text = (\n",
        "    \"Natural language processing (NLP) is a subfield of linguistics, \"\n",
        "    \"computer science, and artificial intelligence concerned with the \"\n",
        "    \"interactions between computers and human language, in particular \"\n",
        "    \"how to program computers to process and analyze large amounts of \"\n",
        "    \"natural language data.\"\n",
        ")\n",
        "\n",
        "summary = summarizer(long_text, max_length=40, min_length=10, do_sample=False)\n",
        "print(\"Résumé du texte :\")\n",
        "print(summary[0]['summary_text'])"
      ],
      "metadata": {
        "colab": {
          "base_uri": "https://localhost:8080/"
        },
        "id": "GkX8RJ8tH5OF",
        "outputId": "46ce7333-f350-46bf-8f6a-5a8c80eb3dfb"
      },
      "execution_count": null,
      "outputs": [
        {
          "output_type": "stream",
          "name": "stdout",
          "text": [
            "Résumé du texte :\n",
            "natural language processing (NLP) is a subfield of linguistics, computer science, and artificial intelligence . it is concerned with the interactions between computers and human language .\n"
          ]
        }
      ]
    },
    {
      "cell_type": "markdown",
      "source": [
        "Cette cellule montre l’utilisation du pipeline summarization avec le modèle T5 (en version t5-small). Le texte initial (assez long) est résumé en quelques phrases.\n",
        "\n",
        "- max_length=40 fixe la longueur maximale du résumé.\n",
        "- min_length=10 assure qu’il y ait au moins 10 tokens dans la sortie"
      ],
      "metadata": {
        "id": "-c64SLxjIHkT"
      }
    },
    {
      "cell_type": "code",
      "source": [
        "# Exemple 3: Traduction (T5)\n",
        "translator = pipeline(\n",
        "    \"translation_en_to_fr\",\n",
        "    model=\"t5-small\",\n",
        "    tokenizer=\"t5-small\",\n",
        "    framework=\"tf\"\n",
        ")"
      ],
      "metadata": {
        "colab": {
          "base_uri": "https://localhost:8080/"
        },
        "id": "CZNMq4m8H755",
        "outputId": "961ddf0c-0a7d-4cfc-f87c-603872bd1a72"
      },
      "execution_count": null,
      "outputs": [
        {
          "output_type": "stream",
          "name": "stderr",
          "text": [
            "All PyTorch model weights were used when initializing TFT5ForConditionalGeneration.\n",
            "\n",
            "All the weights of TFT5ForConditionalGeneration were initialized from the PyTorch model.\n",
            "If your task is similar to the task the model of the checkpoint was trained on, you can already use TFT5ForConditionalGeneration for predictions without further training.\n",
            "Device set to use 0\n"
          ]
        }
      ]
    },
    {
      "cell_type": "code",
      "source": [
        "english_text = \"Transformers have revolutionized natural language processing.\"\n",
        "translation = translator(english_text, max_length=40)\n",
        "print(\"Traduction en français :\")\n",
        "print(translation[0]['translation_text'])"
      ],
      "metadata": {
        "colab": {
          "base_uri": "https://localhost:8080/"
        },
        "id": "dKDWZTQ7IQBS",
        "outputId": "69f0346d-9505-4679-f822-dde14f959c41"
      },
      "execution_count": null,
      "outputs": [
        {
          "output_type": "stream",
          "name": "stdout",
          "text": [
            "Traduction en français :\n",
            "Les transformateurs ont révolutionné le traitement de la langue naturelle.\n"
          ]
        }
      ]
    },
    {
      "cell_type": "markdown",
      "source": [
        "Le pipeline translation_en_to_fr utilise également T5, mais spécialisé pour la traduction de l’anglais vers le français. Le texte en anglais est automatiquement traduit par le modèle."
      ],
      "metadata": {
        "id": "Kz82S7BLIV8P"
      }
    },
    {
      "cell_type": "markdown",
      "source": [
        "## 5. Comment utiliser un LLM pré-entraîné\n"
      ],
      "metadata": {
        "id": "tUvPflWBIalq"
      }
    },
    {
      "cell_type": "markdown",
      "source": [
        "En général, pour utiliser un modèle pré-entraîné, on suit ces étapes :\n",
        "\n",
        "- Charger le tokenizer (ex. GPT-2, BERT, etc.).\n",
        "- Charger le modèle correspondant (TFAutoModelForCausalLM, TFAutoModelForSequenceClassification, etc.).\n",
        "- Préparer le texte sous forme de tokens.\n",
        "- Effectuer l’inférence (génération, classification, etc.).\n",
        "- Ajuster les hyperparamètres (température, top-k, top-p, max_length, etc.) selon les besoins de créativité ou de cohérence.\n",
        "\n",
        "Les exemples de pipeline ci-dessus ont déjà démontré ces étapes de façon simplifiée."
      ],
      "metadata": {
        "id": "FN90zyGBIcXl"
      }
    },
    {
      "cell_type": "markdown",
      "source": [
        "## 6. Paramètres de génération : température et longueur de contexte"
      ],
      "metadata": {
        "id": "O0IGWF1aIoL1"
      }
    },
    {
      "cell_type": "markdown",
      "source": [
        "### 6.1 Température\n",
        "- Contrôle l’aléatoire dans la génération.\n",
        "- Température élevée (ex. 1.3) = plus de diversité, plus de “créativité”.\n",
        "- Température basse (ex. 0.7) = texte plus conservateur, s’en tenant aux prédictions les plus probables.\n",
        "\n",
        "### 6.2 Longueur de contexte\n",
        "- Les Transformers ont une limite en nombre de tokens (ex. ~1024 tokens pour GPT-2).\n",
        "- Plus le contexte est grand, plus le modèle peut référencer des informations anciennes.\n",
        "- Une trop grande séquence peut cependant augmenter le coût de calcul et la mémoire requise."
      ],
      "metadata": {
        "id": "RLdWHqTmIvCd"
      }
    },
    {
      "cell_type": "code",
      "source": [
        "prompt_temp = \"The meaning of life is\"\n",
        "input_ids_temp = tokenizer.encode(prompt_temp, return_tensors=\"tf\")"
      ],
      "metadata": {
        "id": "7l_ztyQVIRFT"
      },
      "execution_count": null,
      "outputs": []
    },
    {
      "cell_type": "code",
      "source": [
        "for temp in [0.7, 1.0, 1.3]:\n",
        "    output_temp = gpt2_model.generate(\n",
        "        input_ids_temp,\n",
        "        max_length=30,\n",
        "        temperature=temp,\n",
        "        do_sample=True,\n",
        "        num_return_sequences=1\n",
        "    )\n",
        "    text_temp = tokenizer.decode(output_temp[0], skip_special_tokens=True)\n",
        "    print(f\"--- Température = {temp} ---\")\n",
        "    print(text_temp)\n",
        "    print()"
      ],
      "metadata": {
        "colab": {
          "base_uri": "https://localhost:8080/"
        },
        "id": "ehlPoDd9JFhX",
        "outputId": "e1a479e5-64a0-4fe1-9f93-518e947d2c56"
      },
      "execution_count": null,
      "outputs": [
        {
          "output_type": "stream",
          "name": "stderr",
          "text": [
            "The attention mask and the pad token id were not set. As a consequence, you may observe unexpected behavior. Please pass your input's `attention_mask` to obtain reliable results.\n",
            "Setting `pad_token_id` to `eos_token_id`:50256 for open-end generation.\n",
            "The attention mask and the pad token id were not set. As a consequence, you may observe unexpected behavior. Please pass your input's `attention_mask` to obtain reliable results.\n",
            "Setting `pad_token_id` to `eos_token_id`:50256 for open-end generation.\n"
          ]
        },
        {
          "output_type": "stream",
          "name": "stdout",
          "text": [
            "--- Température = 0.7 ---\n",
            "The meaning of life is simple: a person can be anything. The meaning of life is that people have something to say about it. That is why\n",
            "\n"
          ]
        },
        {
          "output_type": "stream",
          "name": "stderr",
          "text": [
            "The attention mask and the pad token id were not set. As a consequence, you may observe unexpected behavior. Please pass your input's `attention_mask` to obtain reliable results.\n",
            "Setting `pad_token_id` to `eos_token_id`:50256 for open-end generation.\n"
          ]
        },
        {
          "output_type": "stream",
          "name": "stdout",
          "text": [
            "--- Température = 1.0 ---\n",
            "The meaning of life is not in God (as in nature) but in an infinite mystery that cannot be known, and that is precisely why it calls\n",
            "\n",
            "--- Température = 1.3 ---\n",
            "The meaning of life is one whose action constitutes a subject to all laws – but in the past, the Romans could define itself in terms of rules which\n",
            "\n"
          ]
        }
      ]
    },
    {
      "cell_type": "markdown",
      "source": [
        "Dans ce code, on génère du texte à partir du même prompt mais avec différentes températures (0.7, 1.0, et 1.3). On peut observer la variation de style et de créativité dans le résultat.\n",
        "\n",
        "- max_length=30 limite la génération.\n",
        "- do_sample=True indique que le modèle utilise un échantillonnage probabiliste au lieu de toujours prendre le token le plus probable."
      ],
      "metadata": {
        "id": "g5gG7EgaJai1"
      }
    },
    {
      "cell_type": "markdown",
      "source": [
        "## Conclusion\n",
        "\n",
        "- Les LLMs s'appuient sur l'architecture Transformer pour capter des dépendances à longue portée.\n",
        "- La tokenisation permet de transformer le texte brut en séquences de tokens exploitables.\n",
        "- Les embeddings encodent les relations sémantiques entre tokens dans un espace vectoriel.\n",
        "- Les Transformers utilisent l'attention multi-têtes et des blocs feed-forward pour traiter le contexte global de manière efficace.\n",
        "- Les pipelines facilitent grandement l’exploitation de modèles pré-entraînés (génération, résumé, traduction...).\n",
        "- Les paramètres de génération (température, longueur maximale, etc.) influencent la cohérence et l’originalité du texte produit.\n",
        "\n",
        "Cette exploration offre une base pour aller plus loin dans la personnalisation (fine-tuning) ou le développement d’applications de traitement du langage naturel."
      ],
      "metadata": {
        "id": "tIlk6uZzJ78U"
      }
    },
    {
      "cell_type": "code",
      "source": [],
      "metadata": {
        "id": "IsS64ZJ7JLxe"
      },
      "execution_count": null,
      "outputs": []
    }
  ]
}